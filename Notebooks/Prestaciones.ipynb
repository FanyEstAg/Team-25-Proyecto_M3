{
  "nbformat": 4,
  "nbformat_minor": 0,
  "metadata": {
    "colab": {
      "name": "Prestaciones.ipynb",
      "provenance": [],
      "collapsed_sections": []
    },
    "kernelspec": {
      "name": "python3",
      "display_name": "Python 3"
    },
    "language_info": {
      "name": "python"
    }
  },
  "cells": [
    {
      "cell_type": "markdown",
      "metadata": {
        "id": "CXvPoIL4Bl2w"
      },
      "source": [
        "#Limpieza de base de datos: \n",
        "#Prestaciones; diferencias entre hombres y mujeres."
      ]
    },
    {
      "cell_type": "markdown",
      "metadata": {
        "id": "SeQMLarZgY-3"
      },
      "source": [
        "Las prestaciones se consideran como un beneficio del trabajador por parte de la empresa, este beneficio no debe hacer distinción entre género, religión, clases sociales o partido político. Es por parte de la Ley Federal del Trabajo que las prestaciones mínimas sean: vacaciones, seguro social y prima vacacional."
      ]
    },
    {
      "cell_type": "markdown",
      "metadata": {
        "id": "JmTghYcKfPe1"
      },
      "source": [
        "###Preguntas a resolver\n",
        "- ¿Cómo se ven afectadas con los años las prestaciones laborales para la mujer?\n",
        "- ¿Existe alguna diferencia entre hombres y mujeres al tratarse de prestaciones laborales?\n",
        "- ¿Cuáles son los estados que han otorgado más prestaciones laborales a las mujeres?"
      ]
    },
    {
      "cell_type": "markdown",
      "metadata": {
        "id": "uVswsLxeClF8"
      },
      "source": [
        "Se importan las librerias necesarias:"
      ]
    },
    {
      "cell_type": "code",
      "metadata": {
        "id": "6VeEv4boBeoQ"
      },
      "source": [
        "import pandas as pd\n",
        "import numpy as np"
      ],
      "execution_count": 174,
      "outputs": []
    },
    {
      "cell_type": "markdown",
      "metadata": {
        "id": "yMUMtbWCCke_"
      },
      "source": [
        "Obtenemos la base de datos con la que vamos a trabajar, en este caso se recaban 2 bases de datos para poder comparar una con otra.\n",
        "Tenemos 2, la primera donde solamente se observan las prestaciones que reciben los hombres y la segunda solamente las que reciben las mujeres."
      ]
    },
    {
      "cell_type": "code",
      "metadata": {
        "colab": {
          "base_uri": "https://localhost:8080/",
          "height": 288
        },
        "id": "okCC9FTlCieF",
        "outputId": "d2af3554-ca70-4a2e-f0f1-abbe3c5d8746"
      },
      "source": [
        "prestaciones_H = pd.read_csv(\"https://raw.githubusercontent.com/FanyEstAg/Team-25-Proyecto_M3/main/Datasets/Pregunta_7-Prestaciones-CON-Hombres.csv\", index_col=0)\n",
        "prestaciones_H.head()"
      ],
      "execution_count": 203,
      "outputs": [
        {
          "output_type": "execute_result",
          "data": {
            "text/html": [
              "<div>\n",
              "<style scoped>\n",
              "    .dataframe tbody tr th:only-of-type {\n",
              "        vertical-align: middle;\n",
              "    }\n",
              "\n",
              "    .dataframe tbody tr th {\n",
              "        vertical-align: top;\n",
              "    }\n",
              "\n",
              "    .dataframe thead th {\n",
              "        text-align: right;\n",
              "    }\n",
              "</style>\n",
              "<table border=\"1\" class=\"dataframe\">\n",
              "  <thead>\n",
              "    <tr style=\"text-align: right;\">\n",
              "      <th></th>\n",
              "      <th>2010</th>\n",
              "      <th>2010.1</th>\n",
              "      <th>2010.2</th>\n",
              "      <th>2010.3</th>\n",
              "      <th>2011</th>\n",
              "      <th>2011.1</th>\n",
              "      <th>2011.2</th>\n",
              "      <th>2011.3</th>\n",
              "      <th>2012</th>\n",
              "      <th>2012.1</th>\n",
              "      <th>2012.2</th>\n",
              "      <th>2012.3</th>\n",
              "      <th>2013</th>\n",
              "      <th>2013.1</th>\n",
              "      <th>2013.2</th>\n",
              "      <th>2013.3</th>\n",
              "      <th>2014</th>\n",
              "      <th>2014.1</th>\n",
              "      <th>2014.2</th>\n",
              "      <th>2014.3</th>\n",
              "      <th>2015</th>\n",
              "      <th>2015.1</th>\n",
              "      <th>2015.2</th>\n",
              "      <th>2015.3</th>\n",
              "      <th>2016</th>\n",
              "      <th>2016.1</th>\n",
              "      <th>2016.2</th>\n",
              "      <th>2016.3</th>\n",
              "      <th>2017</th>\n",
              "      <th>2017.1</th>\n",
              "      <th>2017.2</th>\n",
              "      <th>2017.3</th>\n",
              "      <th>2018</th>\n",
              "      <th>2018.1</th>\n",
              "      <th>2018.2</th>\n",
              "      <th>2018.3</th>\n",
              "      <th>2019</th>\n",
              "      <th>2019.1</th>\n",
              "      <th>2019.2</th>\n",
              "      <th>2019.3</th>\n",
              "      <th>2020</th>\n",
              "      <th>2020.1</th>\n",
              "      <th>2020.2</th>\n",
              "    </tr>\n",
              "    <tr>\n",
              "      <th>Entidades</th>\n",
              "      <th></th>\n",
              "      <th></th>\n",
              "      <th></th>\n",
              "      <th></th>\n",
              "      <th></th>\n",
              "      <th></th>\n",
              "      <th></th>\n",
              "      <th></th>\n",
              "      <th></th>\n",
              "      <th></th>\n",
              "      <th></th>\n",
              "      <th></th>\n",
              "      <th></th>\n",
              "      <th></th>\n",
              "      <th></th>\n",
              "      <th></th>\n",
              "      <th></th>\n",
              "      <th></th>\n",
              "      <th></th>\n",
              "      <th></th>\n",
              "      <th></th>\n",
              "      <th></th>\n",
              "      <th></th>\n",
              "      <th></th>\n",
              "      <th></th>\n",
              "      <th></th>\n",
              "      <th></th>\n",
              "      <th></th>\n",
              "      <th></th>\n",
              "      <th></th>\n",
              "      <th></th>\n",
              "      <th></th>\n",
              "      <th></th>\n",
              "      <th></th>\n",
              "      <th></th>\n",
              "      <th></th>\n",
              "      <th></th>\n",
              "      <th></th>\n",
              "      <th></th>\n",
              "      <th></th>\n",
              "      <th></th>\n",
              "      <th></th>\n",
              "      <th></th>\n",
              "    </tr>\n",
              "  </thead>\n",
              "  <tbody>\n",
              "    <tr>\n",
              "      <th>Trimestre</th>\n",
              "      <td>Primer trimestre</td>\n",
              "      <td>Segundo trimestre</td>\n",
              "      <td>Tercer trimestre</td>\n",
              "      <td>Cuarto trimestre</td>\n",
              "      <td>Primer trimestre</td>\n",
              "      <td>Segundo trimestre</td>\n",
              "      <td>Tercer trimestre</td>\n",
              "      <td>Cuarto trimestre</td>\n",
              "      <td>Primer trimestre</td>\n",
              "      <td>Segundo trimestre</td>\n",
              "      <td>Tercer trimestre</td>\n",
              "      <td>Cuarto trimestre</td>\n",
              "      <td>Primer trimestre</td>\n",
              "      <td>Segundo trimestre</td>\n",
              "      <td>Tercer trimestre</td>\n",
              "      <td>Cuarto trimestre</td>\n",
              "      <td>Primer trimestre</td>\n",
              "      <td>Segundo trimestre</td>\n",
              "      <td>Tercer trimestre</td>\n",
              "      <td>Cuarto trimestre</td>\n",
              "      <td>Primer trimestre</td>\n",
              "      <td>Segundo trimestre</td>\n",
              "      <td>Tercer trimestre</td>\n",
              "      <td>Cuarto trimestre</td>\n",
              "      <td>Primer trimestre</td>\n",
              "      <td>Segundo trimestre</td>\n",
              "      <td>Tercer trimestre</td>\n",
              "      <td>Cuarto trimestre</td>\n",
              "      <td>Primer trimestre</td>\n",
              "      <td>Segundo trimestre</td>\n",
              "      <td>Tercer trimestre</td>\n",
              "      <td>Cuarto trimestre</td>\n",
              "      <td>Primer trimestre</td>\n",
              "      <td>Segundo trimestre</td>\n",
              "      <td>Tercer trimestre</td>\n",
              "      <td>Cuarto trimestre</td>\n",
              "      <td>Primer trimestre</td>\n",
              "      <td>Segundo trimestre</td>\n",
              "      <td>Tercer trimestre</td>\n",
              "      <td>Cuarto trimestre</td>\n",
              "      <td>Primer trimestre</td>\n",
              "      <td>Tercer trimestre</td>\n",
              "      <td>Cuarto trimestre</td>\n",
              "    </tr>\n",
              "    <tr>\n",
              "      <th>Nacional</th>\n",
              "      <td>10847815</td>\n",
              "      <td>10773555</td>\n",
              "      <td>10823331</td>\n",
              "      <td>11387508</td>\n",
              "      <td>11389787</td>\n",
              "      <td>11327030</td>\n",
              "      <td>11298923</td>\n",
              "      <td>11453785</td>\n",
              "      <td>11751102</td>\n",
              "      <td>11770305</td>\n",
              "      <td>11611114</td>\n",
              "      <td>12117540</td>\n",
              "      <td>12152581</td>\n",
              "      <td>12011139</td>\n",
              "      <td>12062392</td>\n",
              "      <td>12349311</td>\n",
              "      <td>12631234</td>\n",
              "      <td>12452616</td>\n",
              "      <td>12365237</td>\n",
              "      <td>12576886</td>\n",
              "      <td>12783199</td>\n",
              "      <td>12616504</td>\n",
              "      <td>12733663</td>\n",
              "      <td>12996468</td>\n",
              "      <td>13170610</td>\n",
              "      <td>13021020</td>\n",
              "      <td>13142454</td>\n",
              "      <td>13343763</td>\n",
              "      <td>13362106</td>\n",
              "      <td>13298789</td>\n",
              "      <td>13343856</td>\n",
              "      <td>13402594</td>\n",
              "      <td>13681162</td>\n",
              "      <td>13654580</td>\n",
              "      <td>13620916</td>\n",
              "      <td>13863826</td>\n",
              "      <td>13993040</td>\n",
              "      <td>13871653</td>\n",
              "      <td>13938421</td>\n",
              "      <td>14118927</td>\n",
              "      <td>14408709</td>\n",
              "      <td>13652388</td>\n",
              "      <td>14020339</td>\n",
              "    </tr>\n",
              "    <tr>\n",
              "      <th>Aguascalientes</th>\n",
              "      <td>135970</td>\n",
              "      <td>134787</td>\n",
              "      <td>137544</td>\n",
              "      <td>144137</td>\n",
              "      <td>148322</td>\n",
              "      <td>140502</td>\n",
              "      <td>138810</td>\n",
              "      <td>143634</td>\n",
              "      <td>146762</td>\n",
              "      <td>140220</td>\n",
              "      <td>141307</td>\n",
              "      <td>151498</td>\n",
              "      <td>150129</td>\n",
              "      <td>143318</td>\n",
              "      <td>151472</td>\n",
              "      <td>156519</td>\n",
              "      <td>161685</td>\n",
              "      <td>167883</td>\n",
              "      <td>169881</td>\n",
              "      <td>171141</td>\n",
              "      <td>180020</td>\n",
              "      <td>177119</td>\n",
              "      <td>180645</td>\n",
              "      <td>184283</td>\n",
              "      <td>180588</td>\n",
              "      <td>178111</td>\n",
              "      <td>178484</td>\n",
              "      <td>180590</td>\n",
              "      <td>179526</td>\n",
              "      <td>177160</td>\n",
              "      <td>185840</td>\n",
              "      <td>182760</td>\n",
              "      <td>182999</td>\n",
              "      <td>187235</td>\n",
              "      <td>186421</td>\n",
              "      <td>189829</td>\n",
              "      <td>190050</td>\n",
              "      <td>186051</td>\n",
              "      <td>187692</td>\n",
              "      <td>193228</td>\n",
              "      <td>197763</td>\n",
              "      <td>182859</td>\n",
              "      <td>193507</td>\n",
              "    </tr>\n",
              "    <tr>\n",
              "      <th>Baja California</th>\n",
              "      <td>418605</td>\n",
              "      <td>390526</td>\n",
              "      <td>389344</td>\n",
              "      <td>412231</td>\n",
              "      <td>434017</td>\n",
              "      <td>430039</td>\n",
              "      <td>423389</td>\n",
              "      <td>415922</td>\n",
              "      <td>423842</td>\n",
              "      <td>420591</td>\n",
              "      <td>412947</td>\n",
              "      <td>444436</td>\n",
              "      <td>462078</td>\n",
              "      <td>470772</td>\n",
              "      <td>473793</td>\n",
              "      <td>498382</td>\n",
              "      <td>511781</td>\n",
              "      <td>500670</td>\n",
              "      <td>509785</td>\n",
              "      <td>524690</td>\n",
              "      <td>556484</td>\n",
              "      <td>525406</td>\n",
              "      <td>550447</td>\n",
              "      <td>532786</td>\n",
              "      <td>556761</td>\n",
              "      <td>557961</td>\n",
              "      <td>585132</td>\n",
              "      <td>586018</td>\n",
              "      <td>564002</td>\n",
              "      <td>566527</td>\n",
              "      <td>574022</td>\n",
              "      <td>570665</td>\n",
              "      <td>585448</td>\n",
              "      <td>598772</td>\n",
              "      <td>573913</td>\n",
              "      <td>606224</td>\n",
              "      <td>600073</td>\n",
              "      <td>601852</td>\n",
              "      <td>606477</td>\n",
              "      <td>606631</td>\n",
              "      <td>591095</td>\n",
              "      <td>568665</td>\n",
              "      <td>619757</td>\n",
              "    </tr>\n",
              "    <tr>\n",
              "      <th>Baja California Sur</th>\n",
              "      <td>86600</td>\n",
              "      <td>89426</td>\n",
              "      <td>88662</td>\n",
              "      <td>90790</td>\n",
              "      <td>92426</td>\n",
              "      <td>91134</td>\n",
              "      <td>94806</td>\n",
              "      <td>103350</td>\n",
              "      <td>107486</td>\n",
              "      <td>101339</td>\n",
              "      <td>100314</td>\n",
              "      <td>106881</td>\n",
              "      <td>109632</td>\n",
              "      <td>106275</td>\n",
              "      <td>111700</td>\n",
              "      <td>117862</td>\n",
              "      <td>112312</td>\n",
              "      <td>116352</td>\n",
              "      <td>113717</td>\n",
              "      <td>115262</td>\n",
              "      <td>122413</td>\n",
              "      <td>120718</td>\n",
              "      <td>119979</td>\n",
              "      <td>117451</td>\n",
              "      <td>126057</td>\n",
              "      <td>125152</td>\n",
              "      <td>125383</td>\n",
              "      <td>126233</td>\n",
              "      <td>131011</td>\n",
              "      <td>129020</td>\n",
              "      <td>129583</td>\n",
              "      <td>130030</td>\n",
              "      <td>132173</td>\n",
              "      <td>139362</td>\n",
              "      <td>131945</td>\n",
              "      <td>142394</td>\n",
              "      <td>142966</td>\n",
              "      <td>140689</td>\n",
              "      <td>147237</td>\n",
              "      <td>149596</td>\n",
              "      <td>149075</td>\n",
              "      <td>125338</td>\n",
              "      <td>139014</td>\n",
              "    </tr>\n",
              "  </tbody>\n",
              "</table>\n",
              "</div>"
            ],
            "text/plain": [
              "                                 2010  ...            2020.2\n",
              "Entidades                              ...                  \n",
              "Trimestre            Primer trimestre  ...  Cuarto trimestre\n",
              "Nacional                     10847815  ...          14020339\n",
              "Aguascalientes                 135970  ...            193507\n",
              "Baja California                418605  ...            619757\n",
              "Baja California Sur             86600  ...            139014\n",
              "\n",
              "[5 rows x 43 columns]"
            ]
          },
          "metadata": {
            "tags": []
          },
          "execution_count": 203
        }
      ]
    },
    {
      "cell_type": "markdown",
      "metadata": {
        "id": "U74c5O0ME98W"
      },
      "source": [
        "En esta ocación dejaremos solamente el primer trimestres de cada año, esto para observar solamente la diferencia anual en general."
      ]
    },
    {
      "cell_type": "code",
      "metadata": {
        "id": "9OSn0Z6fFQvN"
      },
      "source": [
        "primer_trimestre = ['2010', '2011', '2012','2013','2014','2015','2016','2017','2018','2019','2020']\n",
        "prestaciones_H_1er_T = prestaciones_H.filter(items=primer_trimestre)\n",
        "prestaciones_M_1er_T = prestaciones_M.filter(items=primer_trimestre)\n",
        "\n",
        "#Borramos las filas Trimestre y Nacional, ya que pueden causarnos problemas después\n",
        "prestaciones_H_1er_T = prestaciones_H_1er_T.drop(['Trimestre'], axis=0)\n",
        "prestaciones_M_1er_T = prestaciones_M_1er_T.drop(['Trimestre'], axis=0)"
      ],
      "execution_count": 205,
      "outputs": []
    },
    {
      "cell_type": "markdown",
      "metadata": {
        "id": "FbD_dIZhXYUf"
      },
      "source": [
        "###Explorando el data frame"
      ]
    },
    {
      "cell_type": "code",
      "metadata": {
        "colab": {
          "base_uri": "https://localhost:8080/"
        },
        "id": "DFYi9KTyXXur",
        "outputId": "0cff02f8-4e04-4979-9ce4-bc0547c98e75"
      },
      "source": [
        "#Dimensiones\n",
        "print(prestaciones_H_1er_T.shape)\n",
        "print(prestaciones_M_1er_T.shape)"
      ],
      "execution_count": 206,
      "outputs": [
        {
          "output_type": "stream",
          "text": [
            "(33, 11)\n",
            "(33, 11)\n"
          ],
          "name": "stdout"
        }
      ]
    },
    {
      "cell_type": "code",
      "metadata": {
        "colab": {
          "base_uri": "https://localhost:8080/"
        },
        "id": "KT9njZW3ZBNd",
        "outputId": "92ffb92c-3d59-42d3-9ac8-b850ead3cba3"
      },
      "source": [
        "#Buscamos valores NaN\n",
        "prestaciones_H_1er_T.isna().sum(axis=0)"
      ],
      "execution_count": 207,
      "outputs": [
        {
          "output_type": "execute_result",
          "data": {
            "text/plain": [
              "2010    0\n",
              "2011    0\n",
              "2012    0\n",
              "2013    0\n",
              "2014    0\n",
              "2015    0\n",
              "2016    0\n",
              "2017    0\n",
              "2018    0\n",
              "2019    0\n",
              "2020    0\n",
              "dtype: int64"
            ]
          },
          "metadata": {
            "tags": []
          },
          "execution_count": 207
        }
      ]
    },
    {
      "cell_type": "code",
      "metadata": {
        "colab": {
          "base_uri": "https://localhost:8080/"
        },
        "id": "VouAhIhCZqpI",
        "outputId": "d7cdf207-4002-4075-b739-3562fad04c9a"
      },
      "source": [
        "prestaciones_M_1er_T.isna().sum(axis=0)"
      ],
      "execution_count": 208,
      "outputs": [
        {
          "output_type": "execute_result",
          "data": {
            "text/plain": [
              "2010    0\n",
              "2011    0\n",
              "2012    0\n",
              "2013    0\n",
              "2014    0\n",
              "2015    0\n",
              "2016    0\n",
              "2017    0\n",
              "2018    0\n",
              "2019    0\n",
              "2020    0\n",
              "dtype: int64"
            ]
          },
          "metadata": {
            "tags": []
          },
          "execution_count": 208
        }
      ]
    },
    {
      "cell_type": "code",
      "metadata": {
        "colab": {
          "base_uri": "https://localhost:8080/"
        },
        "id": "iB7NDWF9Zvf0",
        "outputId": "0f5c4baa-b101-48f0-9ce8-287109ad60f4"
      },
      "source": [
        "#Verificamos que los datos esten segun su tipo de datos\n",
        "prestaciones_H_1er_T.dtypes"
      ],
      "execution_count": 209,
      "outputs": [
        {
          "output_type": "execute_result",
          "data": {
            "text/plain": [
              "2010    object\n",
              "2011    object\n",
              "2012    object\n",
              "2013    object\n",
              "2014    object\n",
              "2015    object\n",
              "2016    object\n",
              "2017    object\n",
              "2018    object\n",
              "2019    object\n",
              "2020    object\n",
              "dtype: object"
            ]
          },
          "metadata": {
            "tags": []
          },
          "execution_count": 209
        }
      ]
    },
    {
      "cell_type": "code",
      "metadata": {
        "colab": {
          "base_uri": "https://localhost:8080/"
        },
        "id": "KHpgnjOjZ_q7",
        "outputId": "30611424-e0e5-4deb-d207-b68945a95741"
      },
      "source": [
        "prestaciones_M_1er_T.dtypes"
      ],
      "execution_count": 210,
      "outputs": [
        {
          "output_type": "execute_result",
          "data": {
            "text/plain": [
              "2010    object\n",
              "2011    object\n",
              "2012    object\n",
              "2013    object\n",
              "2014    object\n",
              "2015    object\n",
              "2016    object\n",
              "2017    object\n",
              "2018    object\n",
              "2019    object\n",
              "2020    object\n",
              "dtype: object"
            ]
          },
          "metadata": {
            "tags": []
          },
          "execution_count": 210
        }
      ]
    },
    {
      "cell_type": "code",
      "metadata": {
        "colab": {
          "base_uri": "https://localhost:8080/"
        },
        "id": "_rxLwtk7aqqa",
        "outputId": "410f03cc-de28-4450-d961-344ad68221e2"
      },
      "source": [
        "#Como todos los datos son enteros, lo mejor es transformarlos a entero/int\n",
        "prestaciones_H_1er_T[primer_trimestre] = prestaciones_H_1er_T[primer_trimestre].astype(int)\n",
        "prestaciones_H_1er_T.dtypes"
      ],
      "execution_count": 211,
      "outputs": [
        {
          "output_type": "execute_result",
          "data": {
            "text/plain": [
              "2010    int64\n",
              "2011    int64\n",
              "2012    int64\n",
              "2013    int64\n",
              "2014    int64\n",
              "2015    int64\n",
              "2016    int64\n",
              "2017    int64\n",
              "2018    int64\n",
              "2019    int64\n",
              "2020    int64\n",
              "dtype: object"
            ]
          },
          "metadata": {
            "tags": []
          },
          "execution_count": 211
        }
      ]
    },
    {
      "cell_type": "code",
      "metadata": {
        "colab": {
          "base_uri": "https://localhost:8080/"
        },
        "id": "VcKHSuINdKYa",
        "outputId": "5bc9fa56-6cc4-4eb9-d543-7c736e49784c"
      },
      "source": [
        "prestaciones_M_1er_T[primer_trimestre] = prestaciones_M_1er_T[primer_trimestre].astype(int)\n",
        "prestaciones_M_1er_T.dtypes"
      ],
      "execution_count": 212,
      "outputs": [
        {
          "output_type": "execute_result",
          "data": {
            "text/plain": [
              "2010    int64\n",
              "2011    int64\n",
              "2012    int64\n",
              "2013    int64\n",
              "2014    int64\n",
              "2015    int64\n",
              "2016    int64\n",
              "2017    int64\n",
              "2018    int64\n",
              "2019    int64\n",
              "2020    int64\n",
              "dtype: object"
            ]
          },
          "metadata": {
            "tags": []
          },
          "execution_count": 212
        }
      ]
    },
    {
      "cell_type": "code",
      "metadata": {
        "colab": {
          "base_uri": "https://localhost:8080/"
        },
        "id": "25mqtbhTdaVU",
        "outputId": "49f06aa6-1eab-47d5-f8b5-dd607f38dc2f"
      },
      "source": [
        "#Información completa de las bases de datos\n",
        "prestaciones_H_1er_T.info()"
      ],
      "execution_count": 213,
      "outputs": [
        {
          "output_type": "stream",
          "text": [
            "<class 'pandas.core.frame.DataFrame'>\n",
            "Index: 33 entries, Nacional to Zacatecas\n",
            "Data columns (total 11 columns):\n",
            " #   Column  Non-Null Count  Dtype\n",
            "---  ------  --------------  -----\n",
            " 0   2010    33 non-null     int64\n",
            " 1   2011    33 non-null     int64\n",
            " 2   2012    33 non-null     int64\n",
            " 3   2013    33 non-null     int64\n",
            " 4   2014    33 non-null     int64\n",
            " 5   2015    33 non-null     int64\n",
            " 6   2016    33 non-null     int64\n",
            " 7   2017    33 non-null     int64\n",
            " 8   2018    33 non-null     int64\n",
            " 9   2019    33 non-null     int64\n",
            " 10  2020    33 non-null     int64\n",
            "dtypes: int64(11)\n",
            "memory usage: 3.1+ KB\n"
          ],
          "name": "stdout"
        }
      ]
    },
    {
      "cell_type": "code",
      "metadata": {
        "colab": {
          "base_uri": "https://localhost:8080/"
        },
        "id": "J6rKPeItdmB0",
        "outputId": "11b6b061-51d9-4fd5-e11a-8bba04d156da"
      },
      "source": [
        "prestaciones_M_1er_T.info()"
      ],
      "execution_count": 214,
      "outputs": [
        {
          "output_type": "stream",
          "text": [
            "<class 'pandas.core.frame.DataFrame'>\n",
            "Index: 33 entries, Nacional to Zacatecas\n",
            "Data columns (total 11 columns):\n",
            " #   Column  Non-Null Count  Dtype\n",
            "---  ------  --------------  -----\n",
            " 0   2010    33 non-null     int64\n",
            " 1   2011    33 non-null     int64\n",
            " 2   2012    33 non-null     int64\n",
            " 3   2013    33 non-null     int64\n",
            " 4   2014    33 non-null     int64\n",
            " 5   2015    33 non-null     int64\n",
            " 6   2016    33 non-null     int64\n",
            " 7   2017    33 non-null     int64\n",
            " 8   2018    33 non-null     int64\n",
            " 9   2019    33 non-null     int64\n",
            " 10  2020    33 non-null     int64\n",
            "dtypes: int64(11)\n",
            "memory usage: 3.1+ KB\n"
          ],
          "name": "stdout"
        }
      ]
    },
    {
      "cell_type": "code",
      "metadata": {
        "colab": {
          "base_uri": "https://localhost:8080/"
        },
        "id": "h2pVsFX_dqfv",
        "outputId": "85bc0221-b1da-4c0f-ea80-5c9c41d13351"
      },
      "source": [
        "#Columnas\n",
        "prestaciones_M_1er_T.columns"
      ],
      "execution_count": 215,
      "outputs": [
        {
          "output_type": "execute_result",
          "data": {
            "text/plain": [
              "Index(['2010', '2011', '2012', '2013', '2014', '2015', '2016', '2017', '2018',\n",
              "       '2019', '2020'],\n",
              "      dtype='object')"
            ]
          },
          "metadata": {
            "tags": []
          },
          "execution_count": 215
        }
      ]
    },
    {
      "cell_type": "code",
      "metadata": {
        "colab": {
          "base_uri": "https://localhost:8080/"
        },
        "id": "vXCr1tjYdvA7",
        "outputId": "17b2ac19-785d-4093-9d7f-d263c1e8c33f"
      },
      "source": [
        "prestaciones_H_1er_T.columns"
      ],
      "execution_count": 216,
      "outputs": [
        {
          "output_type": "execute_result",
          "data": {
            "text/plain": [
              "Index(['2010', '2011', '2012', '2013', '2014', '2015', '2016', '2017', '2018',\n",
              "       '2019', '2020'],\n",
              "      dtype='object')"
            ]
          },
          "metadata": {
            "tags": []
          },
          "execution_count": 216
        }
      ]
    },
    {
      "cell_type": "markdown",
      "metadata": {
        "id": "t_LjJdzbe0QC"
      },
      "source": [
        "###¿Cómo se ven afectadas con los años las prestaciones laborales para la mujer?"
      ]
    },
    {
      "cell_type": "code",
      "metadata": {
        "colab": {
          "base_uri": "https://localhost:8080/",
          "height": 233
        },
        "id": "tUnVzIZ3imNc",
        "outputId": "6c455ea6-6d8e-4536-d666-b3cba7581a42"
      },
      "source": [
        "#Usamos nadamás la base de datos de Mujeres\n",
        "prestaciones_M_1er_T.head()"
      ],
      "execution_count": 217,
      "outputs": [
        {
          "output_type": "execute_result",
          "data": {
            "text/html": [
              "<div>\n",
              "<style scoped>\n",
              "    .dataframe tbody tr th:only-of-type {\n",
              "        vertical-align: middle;\n",
              "    }\n",
              "\n",
              "    .dataframe tbody tr th {\n",
              "        vertical-align: top;\n",
              "    }\n",
              "\n",
              "    .dataframe thead th {\n",
              "        text-align: right;\n",
              "    }\n",
              "</style>\n",
              "<table border=\"1\" class=\"dataframe\">\n",
              "  <thead>\n",
              "    <tr style=\"text-align: right;\">\n",
              "      <th></th>\n",
              "      <th>2010</th>\n",
              "      <th>2011</th>\n",
              "      <th>2012</th>\n",
              "      <th>2013</th>\n",
              "      <th>2014</th>\n",
              "      <th>2015</th>\n",
              "      <th>2016</th>\n",
              "      <th>2017</th>\n",
              "      <th>2018</th>\n",
              "      <th>2019</th>\n",
              "      <th>2020</th>\n",
              "    </tr>\n",
              "    <tr>\n",
              "      <th>Entidades</th>\n",
              "      <th></th>\n",
              "      <th></th>\n",
              "      <th></th>\n",
              "      <th></th>\n",
              "      <th></th>\n",
              "      <th></th>\n",
              "      <th></th>\n",
              "      <th></th>\n",
              "      <th></th>\n",
              "      <th></th>\n",
              "      <th></th>\n",
              "    </tr>\n",
              "  </thead>\n",
              "  <tbody>\n",
              "    <tr>\n",
              "      <th>Nacional</th>\n",
              "      <td>7325100</td>\n",
              "      <td>7518613</td>\n",
              "      <td>7891668</td>\n",
              "      <td>8164089</td>\n",
              "      <td>8386908</td>\n",
              "      <td>8466038</td>\n",
              "      <td>8765840</td>\n",
              "      <td>9049544</td>\n",
              "      <td>9254751</td>\n",
              "      <td>9496762</td>\n",
              "      <td>10221359</td>\n",
              "    </tr>\n",
              "    <tr>\n",
              "      <th>Aguascalientes</th>\n",
              "      <td>94624</td>\n",
              "      <td>93572</td>\n",
              "      <td>98046</td>\n",
              "      <td>105217</td>\n",
              "      <td>108753</td>\n",
              "      <td>107696</td>\n",
              "      <td>114691</td>\n",
              "      <td>120472</td>\n",
              "      <td>125416</td>\n",
              "      <td>125965</td>\n",
              "      <td>141030</td>\n",
              "    </tr>\n",
              "    <tr>\n",
              "      <th>Baja California</th>\n",
              "      <td>282467</td>\n",
              "      <td>283223</td>\n",
              "      <td>300310</td>\n",
              "      <td>321609</td>\n",
              "      <td>351037</td>\n",
              "      <td>357981</td>\n",
              "      <td>356765</td>\n",
              "      <td>383905</td>\n",
              "      <td>396530</td>\n",
              "      <td>431646</td>\n",
              "      <td>423405</td>\n",
              "    </tr>\n",
              "    <tr>\n",
              "      <th>Baja California Sur</th>\n",
              "      <td>56189</td>\n",
              "      <td>59320</td>\n",
              "      <td>71189</td>\n",
              "      <td>72692</td>\n",
              "      <td>78903</td>\n",
              "      <td>82039</td>\n",
              "      <td>79944</td>\n",
              "      <td>83921</td>\n",
              "      <td>87792</td>\n",
              "      <td>101794</td>\n",
              "      <td>106203</td>\n",
              "    </tr>\n",
              "    <tr>\n",
              "      <th>Campeche</th>\n",
              "      <td>54060</td>\n",
              "      <td>57373</td>\n",
              "      <td>61979</td>\n",
              "      <td>61083</td>\n",
              "      <td>60051</td>\n",
              "      <td>59144</td>\n",
              "      <td>56589</td>\n",
              "      <td>60241</td>\n",
              "      <td>63013</td>\n",
              "      <td>65086</td>\n",
              "      <td>69235</td>\n",
              "    </tr>\n",
              "  </tbody>\n",
              "</table>\n",
              "</div>"
            ],
            "text/plain": [
              "                        2010     2011     2012  ...     2018     2019      2020\n",
              "Entidades                                       ...                            \n",
              "Nacional             7325100  7518613  7891668  ...  9254751  9496762  10221359\n",
              "Aguascalientes         94624    93572    98046  ...   125416   125965    141030\n",
              "Baja California       282467   283223   300310  ...   396530   431646    423405\n",
              "Baja California Sur    56189    59320    71189  ...    87792   101794    106203\n",
              "Campeche               54060    57373    61979  ...    63013    65086     69235\n",
              "\n",
              "[5 rows x 11 columns]"
            ]
          },
          "metadata": {
            "tags": []
          },
          "execution_count": 217
        }
      ]
    },
    {
      "cell_type": "markdown",
      "metadata": {
        "id": "qQWd8_HTjJ2V"
      },
      "source": [
        "Vamos a comparar la diferencia que hay entre el año 2010 y 2020"
      ]
    },
    {
      "cell_type": "code",
      "metadata": {
        "colab": {
          "base_uri": "https://localhost:8080/",
          "height": 233
        },
        "id": "sj8-Iuy1jUJS",
        "outputId": "2070f05d-4172-4c08-f2e0-d19afc958356"
      },
      "source": [
        "#Filtramos nadamás los años 2010 y 2020\n",
        "prestaciones_M_1er_T[['2010','2020']].head()"
      ],
      "execution_count": 218,
      "outputs": [
        {
          "output_type": "execute_result",
          "data": {
            "text/html": [
              "<div>\n",
              "<style scoped>\n",
              "    .dataframe tbody tr th:only-of-type {\n",
              "        vertical-align: middle;\n",
              "    }\n",
              "\n",
              "    .dataframe tbody tr th {\n",
              "        vertical-align: top;\n",
              "    }\n",
              "\n",
              "    .dataframe thead th {\n",
              "        text-align: right;\n",
              "    }\n",
              "</style>\n",
              "<table border=\"1\" class=\"dataframe\">\n",
              "  <thead>\n",
              "    <tr style=\"text-align: right;\">\n",
              "      <th></th>\n",
              "      <th>2010</th>\n",
              "      <th>2020</th>\n",
              "    </tr>\n",
              "    <tr>\n",
              "      <th>Entidades</th>\n",
              "      <th></th>\n",
              "      <th></th>\n",
              "    </tr>\n",
              "  </thead>\n",
              "  <tbody>\n",
              "    <tr>\n",
              "      <th>Nacional</th>\n",
              "      <td>7325100</td>\n",
              "      <td>10221359</td>\n",
              "    </tr>\n",
              "    <tr>\n",
              "      <th>Aguascalientes</th>\n",
              "      <td>94624</td>\n",
              "      <td>141030</td>\n",
              "    </tr>\n",
              "    <tr>\n",
              "      <th>Baja California</th>\n",
              "      <td>282467</td>\n",
              "      <td>423405</td>\n",
              "    </tr>\n",
              "    <tr>\n",
              "      <th>Baja California Sur</th>\n",
              "      <td>56189</td>\n",
              "      <td>106203</td>\n",
              "    </tr>\n",
              "    <tr>\n",
              "      <th>Campeche</th>\n",
              "      <td>54060</td>\n",
              "      <td>69235</td>\n",
              "    </tr>\n",
              "  </tbody>\n",
              "</table>\n",
              "</div>"
            ],
            "text/plain": [
              "                        2010      2020\n",
              "Entidades                             \n",
              "Nacional             7325100  10221359\n",
              "Aguascalientes         94624    141030\n",
              "Baja California       282467    423405\n",
              "Baja California Sur    56189    106203\n",
              "Campeche               54060     69235"
            ]
          },
          "metadata": {
            "tags": []
          },
          "execution_count": 218
        }
      ]
    },
    {
      "cell_type": "code",
      "metadata": {
        "colab": {
          "base_uri": "https://localhost:8080/",
          "height": 233
        },
        "id": "xINi74Onjjf2",
        "outputId": "7206ea91-0219-4387-db78-7a29d838635b"
      },
      "source": [
        "#Añadimos una columna con la diferencia de entre esas dos\n",
        "diferencia = prestaciones_M_1er_T['2020'] - prestaciones_M_1er_T['2010']\n",
        "cambio_prestaciones_M = prestaciones_M_1er_T[['2010','2020']].assign(Diferencia=diferencia)\n",
        "cambio_prestaciones_M.head()"
      ],
      "execution_count": 219,
      "outputs": [
        {
          "output_type": "execute_result",
          "data": {
            "text/html": [
              "<div>\n",
              "<style scoped>\n",
              "    .dataframe tbody tr th:only-of-type {\n",
              "        vertical-align: middle;\n",
              "    }\n",
              "\n",
              "    .dataframe tbody tr th {\n",
              "        vertical-align: top;\n",
              "    }\n",
              "\n",
              "    .dataframe thead th {\n",
              "        text-align: right;\n",
              "    }\n",
              "</style>\n",
              "<table border=\"1\" class=\"dataframe\">\n",
              "  <thead>\n",
              "    <tr style=\"text-align: right;\">\n",
              "      <th></th>\n",
              "      <th>2010</th>\n",
              "      <th>2020</th>\n",
              "      <th>Diferencia</th>\n",
              "    </tr>\n",
              "    <tr>\n",
              "      <th>Entidades</th>\n",
              "      <th></th>\n",
              "      <th></th>\n",
              "      <th></th>\n",
              "    </tr>\n",
              "  </thead>\n",
              "  <tbody>\n",
              "    <tr>\n",
              "      <th>Nacional</th>\n",
              "      <td>7325100</td>\n",
              "      <td>10221359</td>\n",
              "      <td>2896259</td>\n",
              "    </tr>\n",
              "    <tr>\n",
              "      <th>Aguascalientes</th>\n",
              "      <td>94624</td>\n",
              "      <td>141030</td>\n",
              "      <td>46406</td>\n",
              "    </tr>\n",
              "    <tr>\n",
              "      <th>Baja California</th>\n",
              "      <td>282467</td>\n",
              "      <td>423405</td>\n",
              "      <td>140938</td>\n",
              "    </tr>\n",
              "    <tr>\n",
              "      <th>Baja California Sur</th>\n",
              "      <td>56189</td>\n",
              "      <td>106203</td>\n",
              "      <td>50014</td>\n",
              "    </tr>\n",
              "    <tr>\n",
              "      <th>Campeche</th>\n",
              "      <td>54060</td>\n",
              "      <td>69235</td>\n",
              "      <td>15175</td>\n",
              "    </tr>\n",
              "  </tbody>\n",
              "</table>\n",
              "</div>"
            ],
            "text/plain": [
              "                        2010      2020  Diferencia\n",
              "Entidades                                         \n",
              "Nacional             7325100  10221359     2896259\n",
              "Aguascalientes         94624    141030       46406\n",
              "Baja California       282467    423405      140938\n",
              "Baja California Sur    56189    106203       50014\n",
              "Campeche               54060     69235       15175"
            ]
          },
          "metadata": {
            "tags": []
          },
          "execution_count": 219
        }
      ]
    },
    {
      "cell_type": "code",
      "metadata": {
        "colab": {
          "base_uri": "https://localhost:8080/",
          "height": 233
        },
        "id": "v67sNlKOnkLT",
        "outputId": "b8223914-786a-403b-be82-404210425c3d"
      },
      "source": [
        " cambio_prestaciones_M = cambio_prestaciones_M.sort_values('Diferencia', ascending = False)\n",
        " cambio_prestaciones_M.head()"
      ],
      "execution_count": 220,
      "outputs": [
        {
          "output_type": "execute_result",
          "data": {
            "text/html": [
              "<div>\n",
              "<style scoped>\n",
              "    .dataframe tbody tr th:only-of-type {\n",
              "        vertical-align: middle;\n",
              "    }\n",
              "\n",
              "    .dataframe tbody tr th {\n",
              "        vertical-align: top;\n",
              "    }\n",
              "\n",
              "    .dataframe thead th {\n",
              "        text-align: right;\n",
              "    }\n",
              "</style>\n",
              "<table border=\"1\" class=\"dataframe\">\n",
              "  <thead>\n",
              "    <tr style=\"text-align: right;\">\n",
              "      <th></th>\n",
              "      <th>2010</th>\n",
              "      <th>2020</th>\n",
              "      <th>Diferencia</th>\n",
              "    </tr>\n",
              "    <tr>\n",
              "      <th>Entidades</th>\n",
              "      <th></th>\n",
              "      <th></th>\n",
              "      <th></th>\n",
              "    </tr>\n",
              "  </thead>\n",
              "  <tbody>\n",
              "    <tr>\n",
              "      <th>Nacional</th>\n",
              "      <td>7325100</td>\n",
              "      <td>10221359</td>\n",
              "      <td>2896259</td>\n",
              "    </tr>\n",
              "    <tr>\n",
              "      <th>Mexico</th>\n",
              "      <td>930925</td>\n",
              "      <td>1289544</td>\n",
              "      <td>358619</td>\n",
              "    </tr>\n",
              "    <tr>\n",
              "      <th>Jalisco</th>\n",
              "      <td>581246</td>\n",
              "      <td>812700</td>\n",
              "      <td>231454</td>\n",
              "    </tr>\n",
              "    <tr>\n",
              "      <th>Guanajuato</th>\n",
              "      <td>381212</td>\n",
              "      <td>601412</td>\n",
              "      <td>220200</td>\n",
              "    </tr>\n",
              "    <tr>\n",
              "      <th>Chihuahua</th>\n",
              "      <td>268294</td>\n",
              "      <td>461645</td>\n",
              "      <td>193351</td>\n",
              "    </tr>\n",
              "  </tbody>\n",
              "</table>\n",
              "</div>"
            ],
            "text/plain": [
              "               2010      2020  Diferencia\n",
              "Entidades                                \n",
              "Nacional    7325100  10221359     2896259\n",
              "Mexico       930925   1289544      358619\n",
              "Jalisco      581246    812700      231454\n",
              "Guanajuato   381212    601412      220200\n",
              "Chihuahua    268294    461645      193351"
            ]
          },
          "metadata": {
            "tags": []
          },
          "execution_count": 220
        }
      ]
    },
    {
      "cell_type": "code",
      "metadata": {
        "colab": {
          "base_uri": "https://localhost:8080/",
          "height": 233
        },
        "id": "5ZcFavDm_e-3",
        "outputId": "c5676a43-a902-409b-a3eb-c80609e8f15d"
      },
      "source": [
        "cambio_prestaciones_M.tail()"
      ],
      "execution_count": 221,
      "outputs": [
        {
          "output_type": "execute_result",
          "data": {
            "text/html": [
              "<div>\n",
              "<style scoped>\n",
              "    .dataframe tbody tr th:only-of-type {\n",
              "        vertical-align: middle;\n",
              "    }\n",
              "\n",
              "    .dataframe tbody tr th {\n",
              "        vertical-align: top;\n",
              "    }\n",
              "\n",
              "    .dataframe thead th {\n",
              "        text-align: right;\n",
              "    }\n",
              "</style>\n",
              "<table border=\"1\" class=\"dataframe\">\n",
              "  <thead>\n",
              "    <tr style=\"text-align: right;\">\n",
              "      <th></th>\n",
              "      <th>2010</th>\n",
              "      <th>2020</th>\n",
              "      <th>Diferencia</th>\n",
              "    </tr>\n",
              "    <tr>\n",
              "      <th>Entidades</th>\n",
              "      <th></th>\n",
              "      <th></th>\n",
              "      <th></th>\n",
              "    </tr>\n",
              "  </thead>\n",
              "  <tbody>\n",
              "    <tr>\n",
              "      <th>Tabasco</th>\n",
              "      <td>126031</td>\n",
              "      <td>155745</td>\n",
              "      <td>29714</td>\n",
              "    </tr>\n",
              "    <tr>\n",
              "      <th>Oaxaca</th>\n",
              "      <td>115565</td>\n",
              "      <td>144424</td>\n",
              "      <td>28859</td>\n",
              "    </tr>\n",
              "    <tr>\n",
              "      <th>Guerrero</th>\n",
              "      <td>120620</td>\n",
              "      <td>146858</td>\n",
              "      <td>26238</td>\n",
              "    </tr>\n",
              "    <tr>\n",
              "      <th>Colima</th>\n",
              "      <td>56900</td>\n",
              "      <td>78401</td>\n",
              "      <td>21501</td>\n",
              "    </tr>\n",
              "    <tr>\n",
              "      <th>Campeche</th>\n",
              "      <td>54060</td>\n",
              "      <td>69235</td>\n",
              "      <td>15175</td>\n",
              "    </tr>\n",
              "  </tbody>\n",
              "</table>\n",
              "</div>"
            ],
            "text/plain": [
              "             2010    2020  Diferencia\n",
              "Entidades                            \n",
              "Tabasco    126031  155745       29714\n",
              "Oaxaca     115565  144424       28859\n",
              "Guerrero   120620  146858       26238\n",
              "Colima      56900   78401       21501\n",
              "Campeche    54060   69235       15175"
            ]
          },
          "metadata": {
            "tags": []
          },
          "execution_count": 221
        }
      ]
    },
    {
      "cell_type": "markdown",
      "metadata": {
        "id": "YnDoVtSXnVA7"
      },
      "source": [
        "Si observamos bien, en ningun estado la diferencia es negativa y con los años esta ha incrementado en gran medida. Vemos también que el estado de México es el que más incrementos en prestaciones ha tenido y por el contrario, Campeche es el más bajo, casi no ha cambiado en los últimos 10 años."
      ]
    },
    {
      "cell_type": "markdown",
      "metadata": {
        "id": "WAKDmxiRoS_4"
      },
      "source": [
        "###¿Existe alguna diferencia entre hombres y mujeres al tratarse de prestaciones laborales?"
      ]
    },
    {
      "cell_type": "code",
      "metadata": {
        "colab": {
          "base_uri": "https://localhost:8080/",
          "height": 233
        },
        "id": "4kBv2PASoWdv",
        "outputId": "8222e83f-b2b0-4baa-f897-2cb94610ebed"
      },
      "source": [
        "#Para esto obtendremos la diferencia anterior pero esta vez con la base de datos de los hombres, para observar si hay diferencias con los años\n",
        "diferencia = prestaciones_H_1er_T['2020'] - prestaciones_H_1er_T['2010']\n",
        "cambio_prestaciones_H = prestaciones_H_1er_T[['2010','2020']].assign(Diferencia=diferencia)\n",
        "cambio_prestaciones_H = cambio_prestaciones_H.sort_values('Diferencia', ascending = False)\n",
        "cambio_prestaciones_H.head()"
      ],
      "execution_count": 222,
      "outputs": [
        {
          "output_type": "execute_result",
          "data": {
            "text/html": [
              "<div>\n",
              "<style scoped>\n",
              "    .dataframe tbody tr th:only-of-type {\n",
              "        vertical-align: middle;\n",
              "    }\n",
              "\n",
              "    .dataframe tbody tr th {\n",
              "        vertical-align: top;\n",
              "    }\n",
              "\n",
              "    .dataframe thead th {\n",
              "        text-align: right;\n",
              "    }\n",
              "</style>\n",
              "<table border=\"1\" class=\"dataframe\">\n",
              "  <thead>\n",
              "    <tr style=\"text-align: right;\">\n",
              "      <th></th>\n",
              "      <th>2010</th>\n",
              "      <th>2020</th>\n",
              "      <th>Diferencia</th>\n",
              "    </tr>\n",
              "    <tr>\n",
              "      <th>Entidades</th>\n",
              "      <th></th>\n",
              "      <th></th>\n",
              "      <th></th>\n",
              "    </tr>\n",
              "  </thead>\n",
              "  <tbody>\n",
              "    <tr>\n",
              "      <th>Nacional</th>\n",
              "      <td>10847815</td>\n",
              "      <td>14408709</td>\n",
              "      <td>3560894</td>\n",
              "    </tr>\n",
              "    <tr>\n",
              "      <th>Mexico</th>\n",
              "      <td>1531097</td>\n",
              "      <td>1952944</td>\n",
              "      <td>421847</td>\n",
              "    </tr>\n",
              "    <tr>\n",
              "      <th>Jalisco</th>\n",
              "      <td>819641</td>\n",
              "      <td>1162704</td>\n",
              "      <td>343063</td>\n",
              "    </tr>\n",
              "    <tr>\n",
              "      <th>Guanajuato</th>\n",
              "      <td>558089</td>\n",
              "      <td>838406</td>\n",
              "      <td>280317</td>\n",
              "    </tr>\n",
              "    <tr>\n",
              "      <th>Nuevo Leon</th>\n",
              "      <td>763113</td>\n",
              "      <td>998491</td>\n",
              "      <td>235378</td>\n",
              "    </tr>\n",
              "  </tbody>\n",
              "</table>\n",
              "</div>"
            ],
            "text/plain": [
              "                2010      2020  Diferencia\n",
              "Entidades                                 \n",
              "Nacional    10847815  14408709     3560894\n",
              "Mexico       1531097   1952944      421847\n",
              "Jalisco       819641   1162704      343063\n",
              "Guanajuato    558089    838406      280317\n",
              "Nuevo Leon    763113    998491      235378"
            ]
          },
          "metadata": {
            "tags": []
          },
          "execution_count": 222
        }
      ]
    },
    {
      "cell_type": "code",
      "metadata": {
        "id": "D7UbNG67rTEA"
      },
      "source": [
        "#Vamos a renombrar las columnas en ambos\n",
        "cambio_prestaciones_H = cambio_prestaciones_H.rename(columns={'2010': 'Hombres en 2010',\n",
        "                                                              '2020': 'Hombres en 2020',\n",
        "                                                              'Diferencia': 'Diferencia Hombres'})\n",
        "cambio_prestaciones_M = cambio_prestaciones_M.rename(columns={'2010': 'Mujeres en 2010',\n",
        "                                                              '2020': 'Mujeres en 2020',\n",
        "                                                              'Diferencia': 'Diferencia Mujeres'})"
      ],
      "execution_count": 223,
      "outputs": []
    },
    {
      "cell_type": "code",
      "metadata": {
        "id": "R8PANrIQ8r6n"
      },
      "source": [
        "#Ahora los uniremos\n",
        "diferencia_entre_HyM = pd.merge(cambio_prestaciones_M,cambio_prestaciones_H, on=\"Entidades\", how='outer')\n",
        "diferencia_entre_HyM = diferencia_entre_HyM[['Mujeres en 2010', 'Hombres en 2010', 'Mujeres en 2020', 'Hombres en 2020', 'Diferencia Mujeres', 'Diferencia Hombres']]"
      ],
      "execution_count": 224,
      "outputs": []
    },
    {
      "cell_type": "code",
      "metadata": {
        "colab": {
          "base_uri": "https://localhost:8080/",
          "height": 233
        },
        "id": "A_GmfhCN_6Ur",
        "outputId": "f19144c9-8e00-41c0-c9f2-b953f579a920"
      },
      "source": [
        "diferencia_entre_HyM.head()"
      ],
      "execution_count": 225,
      "outputs": [
        {
          "output_type": "execute_result",
          "data": {
            "text/html": [
              "<div>\n",
              "<style scoped>\n",
              "    .dataframe tbody tr th:only-of-type {\n",
              "        vertical-align: middle;\n",
              "    }\n",
              "\n",
              "    .dataframe tbody tr th {\n",
              "        vertical-align: top;\n",
              "    }\n",
              "\n",
              "    .dataframe thead th {\n",
              "        text-align: right;\n",
              "    }\n",
              "</style>\n",
              "<table border=\"1\" class=\"dataframe\">\n",
              "  <thead>\n",
              "    <tr style=\"text-align: right;\">\n",
              "      <th></th>\n",
              "      <th>Mujeres en 2010</th>\n",
              "      <th>Hombres en 2010</th>\n",
              "      <th>Mujeres en 2020</th>\n",
              "      <th>Hombres en 2020</th>\n",
              "      <th>Diferencia Mujeres</th>\n",
              "      <th>Diferencia Hombres</th>\n",
              "    </tr>\n",
              "    <tr>\n",
              "      <th>Entidades</th>\n",
              "      <th></th>\n",
              "      <th></th>\n",
              "      <th></th>\n",
              "      <th></th>\n",
              "      <th></th>\n",
              "      <th></th>\n",
              "    </tr>\n",
              "  </thead>\n",
              "  <tbody>\n",
              "    <tr>\n",
              "      <th>Nacional</th>\n",
              "      <td>7325100</td>\n",
              "      <td>10847815</td>\n",
              "      <td>10221359</td>\n",
              "      <td>14408709</td>\n",
              "      <td>2896259</td>\n",
              "      <td>3560894</td>\n",
              "    </tr>\n",
              "    <tr>\n",
              "      <th>Mexico</th>\n",
              "      <td>930925</td>\n",
              "      <td>1531097</td>\n",
              "      <td>1289544</td>\n",
              "      <td>1952944</td>\n",
              "      <td>358619</td>\n",
              "      <td>421847</td>\n",
              "    </tr>\n",
              "    <tr>\n",
              "      <th>Jalisco</th>\n",
              "      <td>581246</td>\n",
              "      <td>819641</td>\n",
              "      <td>812700</td>\n",
              "      <td>1162704</td>\n",
              "      <td>231454</td>\n",
              "      <td>343063</td>\n",
              "    </tr>\n",
              "    <tr>\n",
              "      <th>Guanajuato</th>\n",
              "      <td>381212</td>\n",
              "      <td>558089</td>\n",
              "      <td>601412</td>\n",
              "      <td>838406</td>\n",
              "      <td>220200</td>\n",
              "      <td>280317</td>\n",
              "    </tr>\n",
              "    <tr>\n",
              "      <th>Chihuahua</th>\n",
              "      <td>268294</td>\n",
              "      <td>397785</td>\n",
              "      <td>461645</td>\n",
              "      <td>623805</td>\n",
              "      <td>193351</td>\n",
              "      <td>226020</td>\n",
              "    </tr>\n",
              "  </tbody>\n",
              "</table>\n",
              "</div>"
            ],
            "text/plain": [
              "            Mujeres en 2010  ...  Diferencia Hombres\n",
              "Entidades                    ...                    \n",
              "Nacional            7325100  ...             3560894\n",
              "Mexico               930925  ...              421847\n",
              "Jalisco              581246  ...              343063\n",
              "Guanajuato           381212  ...              280317\n",
              "Chihuahua            268294  ...              226020\n",
              "\n",
              "[5 rows x 6 columns]"
            ]
          },
          "metadata": {
            "tags": []
          },
          "execution_count": 225
        }
      ]
    },
    {
      "cell_type": "code",
      "metadata": {
        "colab": {
          "base_uri": "https://localhost:8080/",
          "height": 233
        },
        "id": "m9o3i1nU_9-K",
        "outputId": "88f4ddb2-21a0-4b69-c29a-a2955248a73f"
      },
      "source": [
        "diferencia_entre_HyM.tail()"
      ],
      "execution_count": 226,
      "outputs": [
        {
          "output_type": "execute_result",
          "data": {
            "text/html": [
              "<div>\n",
              "<style scoped>\n",
              "    .dataframe tbody tr th:only-of-type {\n",
              "        vertical-align: middle;\n",
              "    }\n",
              "\n",
              "    .dataframe tbody tr th {\n",
              "        vertical-align: top;\n",
              "    }\n",
              "\n",
              "    .dataframe thead th {\n",
              "        text-align: right;\n",
              "    }\n",
              "</style>\n",
              "<table border=\"1\" class=\"dataframe\">\n",
              "  <thead>\n",
              "    <tr style=\"text-align: right;\">\n",
              "      <th></th>\n",
              "      <th>Mujeres en 2010</th>\n",
              "      <th>Hombres en 2010</th>\n",
              "      <th>Mujeres en 2020</th>\n",
              "      <th>Hombres en 2020</th>\n",
              "      <th>Diferencia Mujeres</th>\n",
              "      <th>Diferencia Hombres</th>\n",
              "    </tr>\n",
              "    <tr>\n",
              "      <th>Entidades</th>\n",
              "      <th></th>\n",
              "      <th></th>\n",
              "      <th></th>\n",
              "      <th></th>\n",
              "      <th></th>\n",
              "      <th></th>\n",
              "    </tr>\n",
              "  </thead>\n",
              "  <tbody>\n",
              "    <tr>\n",
              "      <th>Tabasco</th>\n",
              "      <td>126031</td>\n",
              "      <td>228705</td>\n",
              "      <td>155745</td>\n",
              "      <td>263944</td>\n",
              "      <td>29714</td>\n",
              "      <td>35239</td>\n",
              "    </tr>\n",
              "    <tr>\n",
              "      <th>Oaxaca</th>\n",
              "      <td>115565</td>\n",
              "      <td>152941</td>\n",
              "      <td>144424</td>\n",
              "      <td>183276</td>\n",
              "      <td>28859</td>\n",
              "      <td>30335</td>\n",
              "    </tr>\n",
              "    <tr>\n",
              "      <th>Guerrero</th>\n",
              "      <td>120620</td>\n",
              "      <td>161987</td>\n",
              "      <td>146858</td>\n",
              "      <td>190137</td>\n",
              "      <td>26238</td>\n",
              "      <td>28150</td>\n",
              "    </tr>\n",
              "    <tr>\n",
              "      <th>Colima</th>\n",
              "      <td>56900</td>\n",
              "      <td>79205</td>\n",
              "      <td>78401</td>\n",
              "      <td>117552</td>\n",
              "      <td>21501</td>\n",
              "      <td>38347</td>\n",
              "    </tr>\n",
              "    <tr>\n",
              "      <th>Campeche</th>\n",
              "      <td>54060</td>\n",
              "      <td>89834</td>\n",
              "      <td>69235</td>\n",
              "      <td>101376</td>\n",
              "      <td>15175</td>\n",
              "      <td>11542</td>\n",
              "    </tr>\n",
              "  </tbody>\n",
              "</table>\n",
              "</div>"
            ],
            "text/plain": [
              "           Mujeres en 2010  ...  Diferencia Hombres\n",
              "Entidades                   ...                    \n",
              "Tabasco             126031  ...               35239\n",
              "Oaxaca              115565  ...               30335\n",
              "Guerrero            120620  ...               28150\n",
              "Colima               56900  ...               38347\n",
              "Campeche             54060  ...               11542\n",
              "\n",
              "[5 rows x 6 columns]"
            ]
          },
          "metadata": {
            "tags": []
          },
          "execution_count": 226
        }
      ]
    },
    {
      "cell_type": "markdown",
      "metadata": {
        "id": "6VVfixxeAWtM"
      },
      "source": [
        "Observamos que la diferencia en estos ultimos años es demasiado alta, no es el doble pero sí lo suficiente para notar la diferencia entre ambos sexos. Esto se puede pensar que es porque hay hombres que trabajan en una empresa, pero no deja de ser un gran cambio entre los dos."
      ]
    },
    {
      "cell_type": "markdown",
      "metadata": {
        "id": "AhxU2pXNAk2S"
      },
      "source": [
        "###¿Cuáles son los estados que han otorgado más prestaciones laborales a las mujeres?"
      ]
    },
    {
      "cell_type": "code",
      "metadata": {
        "colab": {
          "base_uri": "https://localhost:8080/",
          "height": 264
        },
        "id": "dKFr1tdRAECq",
        "outputId": "6cc5967f-cc50-49a2-e8d8-7ff51900985e"
      },
      "source": [
        "promedio_estados= prestaciones_M_1er_T.mean(axis=1)/100\n",
        "promedio_estados = pd.DataFrame(promedio_estados, columns=['Promedio'])\n",
        "promedio_estados.sort_values('Promedio',ascending=False).head(6)"
      ],
      "execution_count": 257,
      "outputs": [
        {
          "output_type": "execute_result",
          "data": {
            "text/html": [
              "<div>\n",
              "<style scoped>\n",
              "    .dataframe tbody tr th:only-of-type {\n",
              "        vertical-align: middle;\n",
              "    }\n",
              "\n",
              "    .dataframe tbody tr th {\n",
              "        vertical-align: top;\n",
              "    }\n",
              "\n",
              "    .dataframe thead th {\n",
              "        text-align: right;\n",
              "    }\n",
              "</style>\n",
              "<table border=\"1\" class=\"dataframe\">\n",
              "  <thead>\n",
              "    <tr style=\"text-align: right;\">\n",
              "      <th></th>\n",
              "      <th>Promedio</th>\n",
              "    </tr>\n",
              "    <tr>\n",
              "      <th>Entidades</th>\n",
              "      <th></th>\n",
              "    </tr>\n",
              "  </thead>\n",
              "  <tbody>\n",
              "    <tr>\n",
              "      <th>Nacional</th>\n",
              "      <td>85946.065455</td>\n",
              "    </tr>\n",
              "    <tr>\n",
              "      <th>Mexico</th>\n",
              "      <td>11044.284545</td>\n",
              "    </tr>\n",
              "    <tr>\n",
              "      <th>Ciudad de Mexico</th>\n",
              "      <td>9884.870909</td>\n",
              "    </tr>\n",
              "    <tr>\n",
              "      <th>Jalisco</th>\n",
              "      <td>6802.430000</td>\n",
              "    </tr>\n",
              "    <tr>\n",
              "      <th>Nuevo Leon</th>\n",
              "      <td>5135.896364</td>\n",
              "    </tr>\n",
              "    <tr>\n",
              "      <th>Guanajuato</th>\n",
              "      <td>4687.508182</td>\n",
              "    </tr>\n",
              "  </tbody>\n",
              "</table>\n",
              "</div>"
            ],
            "text/plain": [
              "                      Promedio\n",
              "Entidades                     \n",
              "Nacional          85946.065455\n",
              "Mexico            11044.284545\n",
              "Ciudad de Mexico   9884.870909\n",
              "Jalisco            6802.430000\n",
              "Nuevo Leon         5135.896364\n",
              "Guanajuato         4687.508182"
            ]
          },
          "metadata": {
            "tags": []
          },
          "execution_count": 257
        }
      ]
    },
    {
      "cell_type": "markdown",
      "metadata": {
        "id": "s_qF34lYFZCU"
      },
      "source": [
        "Los 5 estados que han proporcionado mayores prestaciones a la mujer son *Mexico*, *La Ciudad de Mexico*, *Jalisco*, *Nuevo Leon* y *Guanajuato*."
      ]
    },
    {
      "cell_type": "code",
      "metadata": {
        "colab": {
          "base_uri": "https://localhost:8080/",
          "height": 233
        },
        "id": "HjLk2fG6F7rq",
        "outputId": "52b42f24-04d5-462c-e818-a5273c63e5bc"
      },
      "source": [
        "promedio_estados.sort_values('Promedio',ascending=True).head(5)"
      ],
      "execution_count": 256,
      "outputs": [
        {
          "output_type": "execute_result",
          "data": {
            "text/html": [
              "<div>\n",
              "<style scoped>\n",
              "    .dataframe tbody tr th:only-of-type {\n",
              "        vertical-align: middle;\n",
              "    }\n",
              "\n",
              "    .dataframe tbody tr th {\n",
              "        vertical-align: top;\n",
              "    }\n",
              "\n",
              "    .dataframe thead th {\n",
              "        text-align: right;\n",
              "    }\n",
              "</style>\n",
              "<table border=\"1\" class=\"dataframe\">\n",
              "  <thead>\n",
              "    <tr style=\"text-align: right;\">\n",
              "      <th></th>\n",
              "      <th>Promedio</th>\n",
              "    </tr>\n",
              "    <tr>\n",
              "      <th>Entidades</th>\n",
              "      <th></th>\n",
              "    </tr>\n",
              "  </thead>\n",
              "  <tbody>\n",
              "    <tr>\n",
              "      <th>Campeche</th>\n",
              "      <td>607.140000</td>\n",
              "    </tr>\n",
              "    <tr>\n",
              "      <th>Tlaxcala</th>\n",
              "      <td>620.730909</td>\n",
              "    </tr>\n",
              "    <tr>\n",
              "      <th>Colima</th>\n",
              "      <td>670.273636</td>\n",
              "    </tr>\n",
              "    <tr>\n",
              "      <th>Baja California Sur</th>\n",
              "      <td>799.987273</td>\n",
              "    </tr>\n",
              "    <tr>\n",
              "      <th>Zacatecas</th>\n",
              "      <td>852.400909</td>\n",
              "    </tr>\n",
              "  </tbody>\n",
              "</table>\n",
              "</div>"
            ],
            "text/plain": [
              "                       Promedio\n",
              "Entidades                      \n",
              "Campeche             607.140000\n",
              "Tlaxcala             620.730909\n",
              "Colima               670.273636\n",
              "Baja California Sur  799.987273\n",
              "Zacatecas            852.400909"
            ]
          },
          "metadata": {
            "tags": []
          },
          "execution_count": 256
        }
      ]
    },
    {
      "cell_type": "markdown",
      "metadata": {
        "id": "9TVNWScqGO24"
      },
      "source": [
        "Mientras que *Campeche*, *Tlaxcala*, *Colima*, *Baja California Sur* y *Zacatecas*, son los que menos prestaciones han proporcionado en los últimos  10 años."
      ]
    }
  ]
}