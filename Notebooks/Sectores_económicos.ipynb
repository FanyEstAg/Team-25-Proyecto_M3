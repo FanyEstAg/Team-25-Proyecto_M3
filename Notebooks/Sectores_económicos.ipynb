{
  "nbformat": 4,
  "nbformat_minor": 0,
  "metadata": {
    "colab": {
      "name": "Sectores económicos.ipynb",
      "provenance": []
    },
    "kernelspec": {
      "name": "python3",
      "display_name": "Python 3"
    }
  },
  "cells": [
    {
      "cell_type": "markdown",
      "metadata": {
        "id": "5cPPocFNQfRU"
      },
      "source": [
        "## **LIMPIEZA DE DATOS**\r\n"
      ]
    },
    {
      "cell_type": "code",
      "metadata": {
        "id": "aFTvA80RSDZL"
      },
      "source": [
        "import pandas as pd"
      ],
      "execution_count": 52,
      "outputs": []
    },
    {
      "cell_type": "code",
      "metadata": {
        "id": "h7Jz3HXIlJlN"
      },
      "source": [
        "!pip install -U -q PyDrive\r\n",
        "from pydrive.auth import GoogleAuth\r\n",
        "from pydrive.drive import GoogleDrive\r\n",
        "from google.colab import auth\r\n",
        "from oauth2client.client import GoogleCredentials"
      ],
      "execution_count": 46,
      "outputs": []
    },
    {
      "cell_type": "code",
      "metadata": {
        "id": "5xVb4GUGm3jY"
      },
      "source": [
        "auth.authenticate_user()\r\n",
        "gauth = GoogleAuth()\r\n",
        "gauth.credentials = GoogleCredentials.get_application_default()\r\n",
        "drive = GoogleDrive(gauth)\r\n"
      ],
      "execution_count": 47,
      "outputs": []
    },
    {
      "cell_type": "code",
      "metadata": {
        "id": "h9AkbEg7tRkk"
      },
      "source": [
        "fileDownloaded = drive.CreateFile({'id':'1E8DJ73kA9zHug1AsFFf-0a-cGCIq3MFc'})"
      ],
      "execution_count": 48,
      "outputs": []
    },
    {
      "cell_type": "code",
      "metadata": {
        "id": "Do2dKcw9xubo"
      },
      "source": [
        "fileDownloaded.GetContentFile('basedos.csv')"
      ],
      "execution_count": 49,
      "outputs": []
    },
    {
      "cell_type": "code",
      "metadata": {
        "colab": {
          "base_uri": "https://localhost:8080/",
          "height": 266
        },
        "id": "tRv45dRKx8kf",
        "outputId": "a195664a-22f4-488e-9f28-0f7402f1aaed"
      },
      "source": [
        "df = pd.read_csv('basedos.csv', sep =',')\r\n",
        "df.head()"
      ],
      "execution_count": 50,
      "outputs": [
        {
          "output_type": "execute_result",
          "data": {
            "text/html": [
              "<div>\n",
              "<style scoped>\n",
              "    .dataframe tbody tr th:only-of-type {\n",
              "        vertical-align: middle;\n",
              "    }\n",
              "\n",
              "    .dataframe tbody tr th {\n",
              "        vertical-align: top;\n",
              "    }\n",
              "\n",
              "    .dataframe thead th {\n",
              "        text-align: right;\n",
              "    }\n",
              "</style>\n",
              "<table border=\"1\" class=\"dataframe\">\n",
              "  <thead>\n",
              "    <tr style=\"text-align: right;\">\n",
              "      <th></th>\n",
              "      <th>Periodo</th>\n",
              "      <th>Total</th>\n",
              "      <th>Agricultura, ganadería, silvicultura, pesca y caza</th>\n",
              "      <th>Total Secundario</th>\n",
              "      <th>Industria extractiva y de la electricidad</th>\n",
              "      <th>Industria manufacturera</th>\n",
              "      <th>Construcción</th>\n",
              "      <th>Total terciario</th>\n",
              "      <th>Comercio</th>\n",
              "      <th>Restaurantes y servicios de alojamiento</th>\n",
              "      <th>Transportes, comunicaciones correo y almacenamiento</th>\n",
              "      <th>Servicios profesionales financieros y corporativos</th>\n",
              "      <th>Servicios sociales</th>\n",
              "      <th>Servicios diversos</th>\n",
              "      <th>Gobiernos y organismos internacionales</th>\n",
              "      <th>No específicado</th>\n",
              "    </tr>\n",
              "  </thead>\n",
              "  <tbody>\n",
              "    <tr>\n",
              "      <th>0</th>\n",
              "      <td>2017I</td>\n",
              "      <td>51859895</td>\n",
              "      <td>6537130</td>\n",
              "      <td>13234733</td>\n",
              "      <td>397240</td>\n",
              "      <td>8534828</td>\n",
              "      <td>4302665</td>\n",
              "      <td>31824914</td>\n",
              "      <td>9728631</td>\n",
              "      <td>3870568</td>\n",
              "      <td>2651783</td>\n",
              "      <td>3650004</td>\n",
              "      <td>4228677</td>\n",
              "      <td>5462908</td>\n",
              "      <td>2232343</td>\n",
              "      <td>263118</td>\n",
              "    </tr>\n",
              "    <tr>\n",
              "      <th>1</th>\n",
              "      <td>2017II</td>\n",
              "      <td>52198611</td>\n",
              "      <td>6696462</td>\n",
              "      <td>13330431</td>\n",
              "      <td>408022</td>\n",
              "      <td>8674818</td>\n",
              "      <td>4247591</td>\n",
              "      <td>31869432</td>\n",
              "      <td>9640320</td>\n",
              "      <td>3984017</td>\n",
              "      <td>2635119</td>\n",
              "      <td>3650708</td>\n",
              "      <td>4238259</td>\n",
              "      <td>5521543</td>\n",
              "      <td>2199466</td>\n",
              "      <td>302286</td>\n",
              "    </tr>\n",
              "    <tr>\n",
              "      <th>2</th>\n",
              "      <td>2017III</td>\n",
              "      <td>52438646</td>\n",
              "      <td>6954738</td>\n",
              "      <td>13418141</td>\n",
              "      <td>416136</td>\n",
              "      <td>8803438</td>\n",
              "      <td>4198567</td>\n",
              "      <td>31724164</td>\n",
              "      <td>9602025</td>\n",
              "      <td>3897828</td>\n",
              "      <td>2679458</td>\n",
              "      <td>3736593</td>\n",
              "      <td>4217580</td>\n",
              "      <td>5415114</td>\n",
              "      <td>2175566</td>\n",
              "      <td>341603</td>\n",
              "    </tr>\n",
              "    <tr>\n",
              "      <th>3</th>\n",
              "      <td>2017IV</td>\n",
              "      <td>52865845</td>\n",
              "      <td>7056744</td>\n",
              "      <td>13524988</td>\n",
              "      <td>409407</td>\n",
              "      <td>8752268</td>\n",
              "      <td>4363313</td>\n",
              "      <td>31969381</td>\n",
              "      <td>9672477</td>\n",
              "      <td>3948343</td>\n",
              "      <td>2708764</td>\n",
              "      <td>3613309</td>\n",
              "      <td>4355484</td>\n",
              "      <td>5446231</td>\n",
              "      <td>2224773</td>\n",
              "      <td>314732</td>\n",
              "    </tr>\n",
              "    <tr>\n",
              "      <th>4</th>\n",
              "      <td>2018I</td>\n",
              "      <td>52876916</td>\n",
              "      <td>6720104</td>\n",
              "      <td>13643766</td>\n",
              "      <td>419171</td>\n",
              "      <td>8850675</td>\n",
              "      <td>4373920</td>\n",
              "      <td>32219301</td>\n",
              "      <td>9734367</td>\n",
              "      <td>3938603</td>\n",
              "      <td>2836523</td>\n",
              "      <td>3740759</td>\n",
              "      <td>4309249</td>\n",
              "      <td>5473062</td>\n",
              "      <td>2186738</td>\n",
              "      <td>293745</td>\n",
              "    </tr>\n",
              "  </tbody>\n",
              "</table>\n",
              "</div>"
            ],
            "text/plain": [
              "   Periodo     Total  ...  Gobiernos y organismos internacionales  No específicado\n",
              "0    2017I  51859895  ...                                 2232343           263118\n",
              "1   2017II  52198611  ...                                 2199466           302286\n",
              "2  2017III  52438646  ...                                 2175566           341603\n",
              "3   2017IV  52865845  ...                                 2224773           314732\n",
              "4    2018I  52876916  ...                                 2186738           293745\n",
              "\n",
              "[5 rows x 16 columns]"
            ]
          },
          "metadata": {
            "tags": []
          },
          "execution_count": 50
        }
      ]
    },
    {
      "cell_type": "code",
      "metadata": {
        "colab": {
          "base_uri": "https://localhost:8080/"
        },
        "id": "oJnvZ-UmSKyY",
        "outputId": "87c50516-2615-4eae-c9d7-f3dd6ebe59fc"
      },
      "source": [
        "df.shape"
      ],
      "execution_count": 55,
      "outputs": [
        {
          "output_type": "execute_result",
          "data": {
            "text/plain": [
              "(13, 16)"
            ]
          },
          "metadata": {
            "tags": []
          },
          "execution_count": 55
        }
      ]
    },
    {
      "cell_type": "code",
      "metadata": {
        "colab": {
          "base_uri": "https://localhost:8080/"
        },
        "id": "wHkjs_asSP0v",
        "outputId": "3d4e1946-4ffa-437b-cfe3-d8ac1238291a"
      },
      "source": [
        "df.dtypes"
      ],
      "execution_count": 56,
      "outputs": [
        {
          "output_type": "execute_result",
          "data": {
            "text/plain": [
              "Periodo                                                object\n",
              "Total                                                   int64\n",
              "Agricultura, ganadería, silvicultura, pesca y caza      int64\n",
              "Total Secundario                                        int64\n",
              "Industria extractiva y de la electricidad               int64\n",
              "Industria manufacturera                                 int64\n",
              "Construcción                                            int64\n",
              "Total terciario                                         int64\n",
              "Comercio                                                int64\n",
              "Restaurantes y servicios de alojamiento                 int64\n",
              "Transportes, comunicaciones correo y almacenamiento     int64\n",
              "Servicios profesionales financieros y corporativos      int64\n",
              "Servicios sociales                                      int64\n",
              "Servicios diversos                                      int64\n",
              "Gobiernos y organismos internacionales                  int64\n",
              "No específicado                                         int64\n",
              "dtype: object"
            ]
          },
          "metadata": {
            "tags": []
          },
          "execution_count": 56
        }
      ]
    },
    {
      "cell_type": "code",
      "metadata": {
        "colab": {
          "base_uri": "https://localhost:8080/"
        },
        "id": "hRqNyFBGSgq9",
        "outputId": "d475c488-25a3-42da-ef1b-d58268112e24"
      },
      "source": [
        "df.info()"
      ],
      "execution_count": 57,
      "outputs": [
        {
          "output_type": "stream",
          "text": [
            "<class 'pandas.core.frame.DataFrame'>\n",
            "RangeIndex: 13 entries, 0 to 12\n",
            "Data columns (total 16 columns):\n",
            " #   Column                                               Non-Null Count  Dtype \n",
            "---  ------                                               --------------  ----- \n",
            " 0   Periodo                                              13 non-null     object\n",
            " 1   Total                                                13 non-null     int64 \n",
            " 2   Agricultura, ganadería, silvicultura, pesca y caza   13 non-null     int64 \n",
            " 3   Total Secundario                                     13 non-null     int64 \n",
            " 4   Industria extractiva y de la electricidad            13 non-null     int64 \n",
            " 5   Industria manufacturera                              13 non-null     int64 \n",
            " 6   Construcción                                         13 non-null     int64 \n",
            " 7   Total terciario                                      13 non-null     int64 \n",
            " 8   Comercio                                             13 non-null     int64 \n",
            " 9   Restaurantes y servicios de alojamiento              13 non-null     int64 \n",
            " 10  Transportes, comunicaciones correo y almacenamiento  13 non-null     int64 \n",
            " 11  Servicios profesionales financieros y corporativos   13 non-null     int64 \n",
            " 12  Servicios sociales                                   13 non-null     int64 \n",
            " 13  Servicios diversos                                   13 non-null     int64 \n",
            " 14  Gobiernos y organismos internacionales               13 non-null     int64 \n",
            " 15  No específicado                                      13 non-null     int64 \n",
            "dtypes: int64(15), object(1)\n",
            "memory usage: 1.8+ KB\n"
          ],
          "name": "stdout"
        }
      ]
    },
    {
      "cell_type": "code",
      "metadata": {
        "colab": {
          "base_uri": "https://localhost:8080/"
        },
        "id": "bxcRGkKHSqxV",
        "outputId": "e91b98a6-9429-469a-cf94-72a0a4774024"
      },
      "source": [
        "\r\n",
        "df.columns"
      ],
      "execution_count": 58,
      "outputs": [
        {
          "output_type": "execute_result",
          "data": {
            "text/plain": [
              "Index(['Periodo', 'Total',\n",
              "       'Agricultura, ganadería, silvicultura, pesca y caza',\n",
              "       'Total Secundario', 'Industria extractiva y de la electricidad',\n",
              "       'Industria manufacturera', 'Construcción', 'Total terciario',\n",
              "       'Comercio', 'Restaurantes y servicios de alojamiento',\n",
              "       'Transportes, comunicaciones correo y almacenamiento',\n",
              "       'Servicios profesionales financieros y corporativos',\n",
              "       'Servicios sociales', 'Servicios diversos',\n",
              "       'Gobiernos y organismos internacionales', 'No específicado'],\n",
              "      dtype='object')"
            ]
          },
          "metadata": {
            "tags": []
          },
          "execution_count": 58
        }
      ]
    },
    {
      "cell_type": "code",
      "metadata": {
        "id": "2ZVpmJSCTfSK"
      },
      "source": [
        "import numpy as np"
      ],
      "execution_count": 59,
      "outputs": []
    },
    {
      "cell_type": "code",
      "metadata": {
        "colab": {
          "base_uri": "https://localhost:8080/",
          "height": 505
        },
        "id": "jaTmsu0XTgbf",
        "outputId": "c20151e4-18b9-4269-9283-d55ae20a457d"
      },
      "source": [
        "df.isna()  #Arroja una tabla con booleanos que indica donde hay datos faltantes."
      ],
      "execution_count": 60,
      "outputs": [
        {
          "output_type": "execute_result",
          "data": {
            "text/html": [
              "<div>\n",
              "<style scoped>\n",
              "    .dataframe tbody tr th:only-of-type {\n",
              "        vertical-align: middle;\n",
              "    }\n",
              "\n",
              "    .dataframe tbody tr th {\n",
              "        vertical-align: top;\n",
              "    }\n",
              "\n",
              "    .dataframe thead th {\n",
              "        text-align: right;\n",
              "    }\n",
              "</style>\n",
              "<table border=\"1\" class=\"dataframe\">\n",
              "  <thead>\n",
              "    <tr style=\"text-align: right;\">\n",
              "      <th></th>\n",
              "      <th>Periodo</th>\n",
              "      <th>Total</th>\n",
              "      <th>Agricultura, ganadería, silvicultura, pesca y caza</th>\n",
              "      <th>Total Secundario</th>\n",
              "      <th>Industria extractiva y de la electricidad</th>\n",
              "      <th>Industria manufacturera</th>\n",
              "      <th>Construcción</th>\n",
              "      <th>Total terciario</th>\n",
              "      <th>Comercio</th>\n",
              "      <th>Restaurantes y servicios de alojamiento</th>\n",
              "      <th>Transportes, comunicaciones correo y almacenamiento</th>\n",
              "      <th>Servicios profesionales financieros y corporativos</th>\n",
              "      <th>Servicios sociales</th>\n",
              "      <th>Servicios diversos</th>\n",
              "      <th>Gobiernos y organismos internacionales</th>\n",
              "      <th>No específicado</th>\n",
              "    </tr>\n",
              "  </thead>\n",
              "  <tbody>\n",
              "    <tr>\n",
              "      <th>0</th>\n",
              "      <td>False</td>\n",
              "      <td>False</td>\n",
              "      <td>False</td>\n",
              "      <td>False</td>\n",
              "      <td>False</td>\n",
              "      <td>False</td>\n",
              "      <td>False</td>\n",
              "      <td>False</td>\n",
              "      <td>False</td>\n",
              "      <td>False</td>\n",
              "      <td>False</td>\n",
              "      <td>False</td>\n",
              "      <td>False</td>\n",
              "      <td>False</td>\n",
              "      <td>False</td>\n",
              "      <td>False</td>\n",
              "    </tr>\n",
              "    <tr>\n",
              "      <th>1</th>\n",
              "      <td>False</td>\n",
              "      <td>False</td>\n",
              "      <td>False</td>\n",
              "      <td>False</td>\n",
              "      <td>False</td>\n",
              "      <td>False</td>\n",
              "      <td>False</td>\n",
              "      <td>False</td>\n",
              "      <td>False</td>\n",
              "      <td>False</td>\n",
              "      <td>False</td>\n",
              "      <td>False</td>\n",
              "      <td>False</td>\n",
              "      <td>False</td>\n",
              "      <td>False</td>\n",
              "      <td>False</td>\n",
              "    </tr>\n",
              "    <tr>\n",
              "      <th>2</th>\n",
              "      <td>False</td>\n",
              "      <td>False</td>\n",
              "      <td>False</td>\n",
              "      <td>False</td>\n",
              "      <td>False</td>\n",
              "      <td>False</td>\n",
              "      <td>False</td>\n",
              "      <td>False</td>\n",
              "      <td>False</td>\n",
              "      <td>False</td>\n",
              "      <td>False</td>\n",
              "      <td>False</td>\n",
              "      <td>False</td>\n",
              "      <td>False</td>\n",
              "      <td>False</td>\n",
              "      <td>False</td>\n",
              "    </tr>\n",
              "    <tr>\n",
              "      <th>3</th>\n",
              "      <td>False</td>\n",
              "      <td>False</td>\n",
              "      <td>False</td>\n",
              "      <td>False</td>\n",
              "      <td>False</td>\n",
              "      <td>False</td>\n",
              "      <td>False</td>\n",
              "      <td>False</td>\n",
              "      <td>False</td>\n",
              "      <td>False</td>\n",
              "      <td>False</td>\n",
              "      <td>False</td>\n",
              "      <td>False</td>\n",
              "      <td>False</td>\n",
              "      <td>False</td>\n",
              "      <td>False</td>\n",
              "    </tr>\n",
              "    <tr>\n",
              "      <th>4</th>\n",
              "      <td>False</td>\n",
              "      <td>False</td>\n",
              "      <td>False</td>\n",
              "      <td>False</td>\n",
              "      <td>False</td>\n",
              "      <td>False</td>\n",
              "      <td>False</td>\n",
              "      <td>False</td>\n",
              "      <td>False</td>\n",
              "      <td>False</td>\n",
              "      <td>False</td>\n",
              "      <td>False</td>\n",
              "      <td>False</td>\n",
              "      <td>False</td>\n",
              "      <td>False</td>\n",
              "      <td>False</td>\n",
              "    </tr>\n",
              "    <tr>\n",
              "      <th>5</th>\n",
              "      <td>False</td>\n",
              "      <td>False</td>\n",
              "      <td>False</td>\n",
              "      <td>False</td>\n",
              "      <td>False</td>\n",
              "      <td>False</td>\n",
              "      <td>False</td>\n",
              "      <td>False</td>\n",
              "      <td>False</td>\n",
              "      <td>False</td>\n",
              "      <td>False</td>\n",
              "      <td>False</td>\n",
              "      <td>False</td>\n",
              "      <td>False</td>\n",
              "      <td>False</td>\n",
              "      <td>False</td>\n",
              "    </tr>\n",
              "    <tr>\n",
              "      <th>6</th>\n",
              "      <td>False</td>\n",
              "      <td>False</td>\n",
              "      <td>False</td>\n",
              "      <td>False</td>\n",
              "      <td>False</td>\n",
              "      <td>False</td>\n",
              "      <td>False</td>\n",
              "      <td>False</td>\n",
              "      <td>False</td>\n",
              "      <td>False</td>\n",
              "      <td>False</td>\n",
              "      <td>False</td>\n",
              "      <td>False</td>\n",
              "      <td>False</td>\n",
              "      <td>False</td>\n",
              "      <td>False</td>\n",
              "    </tr>\n",
              "    <tr>\n",
              "      <th>7</th>\n",
              "      <td>False</td>\n",
              "      <td>False</td>\n",
              "      <td>False</td>\n",
              "      <td>False</td>\n",
              "      <td>False</td>\n",
              "      <td>False</td>\n",
              "      <td>False</td>\n",
              "      <td>False</td>\n",
              "      <td>False</td>\n",
              "      <td>False</td>\n",
              "      <td>False</td>\n",
              "      <td>False</td>\n",
              "      <td>False</td>\n",
              "      <td>False</td>\n",
              "      <td>False</td>\n",
              "      <td>False</td>\n",
              "    </tr>\n",
              "    <tr>\n",
              "      <th>8</th>\n",
              "      <td>False</td>\n",
              "      <td>False</td>\n",
              "      <td>False</td>\n",
              "      <td>False</td>\n",
              "      <td>False</td>\n",
              "      <td>False</td>\n",
              "      <td>False</td>\n",
              "      <td>False</td>\n",
              "      <td>False</td>\n",
              "      <td>False</td>\n",
              "      <td>False</td>\n",
              "      <td>False</td>\n",
              "      <td>False</td>\n",
              "      <td>False</td>\n",
              "      <td>False</td>\n",
              "      <td>False</td>\n",
              "    </tr>\n",
              "    <tr>\n",
              "      <th>9</th>\n",
              "      <td>False</td>\n",
              "      <td>False</td>\n",
              "      <td>False</td>\n",
              "      <td>False</td>\n",
              "      <td>False</td>\n",
              "      <td>False</td>\n",
              "      <td>False</td>\n",
              "      <td>False</td>\n",
              "      <td>False</td>\n",
              "      <td>False</td>\n",
              "      <td>False</td>\n",
              "      <td>False</td>\n",
              "      <td>False</td>\n",
              "      <td>False</td>\n",
              "      <td>False</td>\n",
              "      <td>False</td>\n",
              "    </tr>\n",
              "    <tr>\n",
              "      <th>10</th>\n",
              "      <td>False</td>\n",
              "      <td>False</td>\n",
              "      <td>False</td>\n",
              "      <td>False</td>\n",
              "      <td>False</td>\n",
              "      <td>False</td>\n",
              "      <td>False</td>\n",
              "      <td>False</td>\n",
              "      <td>False</td>\n",
              "      <td>False</td>\n",
              "      <td>False</td>\n",
              "      <td>False</td>\n",
              "      <td>False</td>\n",
              "      <td>False</td>\n",
              "      <td>False</td>\n",
              "      <td>False</td>\n",
              "    </tr>\n",
              "    <tr>\n",
              "      <th>11</th>\n",
              "      <td>False</td>\n",
              "      <td>False</td>\n",
              "      <td>False</td>\n",
              "      <td>False</td>\n",
              "      <td>False</td>\n",
              "      <td>False</td>\n",
              "      <td>False</td>\n",
              "      <td>False</td>\n",
              "      <td>False</td>\n",
              "      <td>False</td>\n",
              "      <td>False</td>\n",
              "      <td>False</td>\n",
              "      <td>False</td>\n",
              "      <td>False</td>\n",
              "      <td>False</td>\n",
              "      <td>False</td>\n",
              "    </tr>\n",
              "    <tr>\n",
              "      <th>12</th>\n",
              "      <td>False</td>\n",
              "      <td>False</td>\n",
              "      <td>False</td>\n",
              "      <td>False</td>\n",
              "      <td>False</td>\n",
              "      <td>False</td>\n",
              "      <td>False</td>\n",
              "      <td>False</td>\n",
              "      <td>False</td>\n",
              "      <td>False</td>\n",
              "      <td>False</td>\n",
              "      <td>False</td>\n",
              "      <td>False</td>\n",
              "      <td>False</td>\n",
              "      <td>False</td>\n",
              "      <td>False</td>\n",
              "    </tr>\n",
              "  </tbody>\n",
              "</table>\n",
              "</div>"
            ],
            "text/plain": [
              "    Periodo  Total  ...  Gobiernos y organismos internacionales  No específicado\n",
              "0     False  False  ...                                   False            False\n",
              "1     False  False  ...                                   False            False\n",
              "2     False  False  ...                                   False            False\n",
              "3     False  False  ...                                   False            False\n",
              "4     False  False  ...                                   False            False\n",
              "5     False  False  ...                                   False            False\n",
              "6     False  False  ...                                   False            False\n",
              "7     False  False  ...                                   False            False\n",
              "8     False  False  ...                                   False            False\n",
              "9     False  False  ...                                   False            False\n",
              "10    False  False  ...                                   False            False\n",
              "11    False  False  ...                                   False            False\n",
              "12    False  False  ...                                   False            False\n",
              "\n",
              "[13 rows x 16 columns]"
            ]
          },
          "metadata": {
            "tags": []
          },
          "execution_count": 60
        }
      ]
    },
    {
      "cell_type": "code",
      "metadata": {
        "colab": {
          "base_uri": "https://localhost:8080/"
        },
        "id": "8ZLynoE3Tt_g",
        "outputId": "54a223ab-109a-4eb6-9868-b29c2ea80c1b"
      },
      "source": [
        "df.isna().sum(axis=0) \r\n",
        "df.isna().sum(axis=1) #No hay datos faltantes. "
      ],
      "execution_count": 62,
      "outputs": [
        {
          "output_type": "execute_result",
          "data": {
            "text/plain": [
              "0     0\n",
              "1     0\n",
              "2     0\n",
              "3     0\n",
              "4     0\n",
              "5     0\n",
              "6     0\n",
              "7     0\n",
              "8     0\n",
              "9     0\n",
              "10    0\n",
              "11    0\n",
              "12    0\n",
              "dtype: int64"
            ]
          },
          "metadata": {
            "tags": []
          },
          "execution_count": 62
        }
      ]
    },
    {
      "cell_type": "markdown",
      "metadata": {
        "id": "GBm5VoFY_fCr"
      },
      "source": [
        "## **TRANSFORMACIÓN**"
      ]
    },
    {
      "cell_type": "markdown",
      "metadata": {
        "id": "Xs0KKEKYUgAJ"
      },
      "source": [
        "**¿Que sector empresarial se proyecta con más probabilidades de crecimiento a futuro para las mujeres?**\r\n",
        "\r\n",
        "Respuesta: El sector terciario"
      ]
    },
    {
      "cell_type": "code",
      "metadata": {
        "colab": {
          "base_uri": "https://localhost:8080/",
          "height": 196
        },
        "id": "sHKkPfmUVObl",
        "outputId": "aa4caaf9-0666-4bdc-d314-f5ad2073f859"
      },
      "source": [
        "totales_sectores = df[['Agricultura, ganadería, silvicultura, pesca y caza', 'Total Secundario', 'Total terciario']].copy()\r\n",
        "totales_sectores.head()"
      ],
      "execution_count": 68,
      "outputs": [
        {
          "output_type": "execute_result",
          "data": {
            "text/html": [
              "<div>\n",
              "<style scoped>\n",
              "    .dataframe tbody tr th:only-of-type {\n",
              "        vertical-align: middle;\n",
              "    }\n",
              "\n",
              "    .dataframe tbody tr th {\n",
              "        vertical-align: top;\n",
              "    }\n",
              "\n",
              "    .dataframe thead th {\n",
              "        text-align: right;\n",
              "    }\n",
              "</style>\n",
              "<table border=\"1\" class=\"dataframe\">\n",
              "  <thead>\n",
              "    <tr style=\"text-align: right;\">\n",
              "      <th></th>\n",
              "      <th>Agricultura, ganadería, silvicultura, pesca y caza</th>\n",
              "      <th>Total Secundario</th>\n",
              "      <th>Total terciario</th>\n",
              "    </tr>\n",
              "  </thead>\n",
              "  <tbody>\n",
              "    <tr>\n",
              "      <th>0</th>\n",
              "      <td>6537130</td>\n",
              "      <td>13234733</td>\n",
              "      <td>31824914</td>\n",
              "    </tr>\n",
              "    <tr>\n",
              "      <th>1</th>\n",
              "      <td>6696462</td>\n",
              "      <td>13330431</td>\n",
              "      <td>31869432</td>\n",
              "    </tr>\n",
              "    <tr>\n",
              "      <th>2</th>\n",
              "      <td>6954738</td>\n",
              "      <td>13418141</td>\n",
              "      <td>31724164</td>\n",
              "    </tr>\n",
              "    <tr>\n",
              "      <th>3</th>\n",
              "      <td>7056744</td>\n",
              "      <td>13524988</td>\n",
              "      <td>31969381</td>\n",
              "    </tr>\n",
              "    <tr>\n",
              "      <th>4</th>\n",
              "      <td>6720104</td>\n",
              "      <td>13643766</td>\n",
              "      <td>32219301</td>\n",
              "    </tr>\n",
              "  </tbody>\n",
              "</table>\n",
              "</div>"
            ],
            "text/plain": [
              "   Agricultura, ganadería, silvicultura, pesca y caza  ...  Total terciario\n",
              "0                                            6537130   ...         31824914\n",
              "1                                            6696462   ...         31869432\n",
              "2                                            6954738   ...         31724164\n",
              "3                                            7056744   ...         31969381\n",
              "4                                            6720104   ...         32219301\n",
              "\n",
              "[5 rows x 3 columns]"
            ]
          },
          "metadata": {
            "tags": []
          },
          "execution_count": 68
        }
      ]
    },
    {
      "cell_type": "code",
      "metadata": {
        "colab": {
          "base_uri": "https://localhost:8080/"
        },
        "id": "n6NZvof8Wupq",
        "outputId": "192b2eac-1dae-4b77-803c-510b2b73852d"
      },
      "source": [
        "totales_sectores.mean()"
      ],
      "execution_count": 66,
      "outputs": [
        {
          "output_type": "execute_result",
          "data": {
            "text/plain": [
              "Agricultura, ganadería, silvicultura, pesca y caza    6.797285e+06\n",
              "Total Secundario                                      1.366442e+07\n",
              "Total terciario                                       3.304057e+07\n",
              "dtype: float64"
            ]
          },
          "metadata": {
            "tags": []
          },
          "execution_count": 66
        }
      ]
    },
    {
      "cell_type": "markdown",
      "metadata": {
        "id": "0Lya5PdeaVxW"
      },
      "source": [
        "**¿Que actividad economica se proyecta con más probabilidades de crecimiento a futuro para las mujeres?**\r\n",
        "\r\n",
        "El comercio"
      ]
    },
    {
      "cell_type": "code",
      "metadata": {
        "colab": {
          "base_uri": "https://localhost:8080/"
        },
        "id": "Y1On5n1tasvB",
        "outputId": "5584a0e2-7ac0-4034-c3b6-211225fdd2a2"
      },
      "source": [
        "df.mean()"
      ],
      "execution_count": 70,
      "outputs": [
        {
          "output_type": "execute_result",
          "data": {
            "text/plain": [
              "Total                                                  5.381342e+07\n",
              "Agricultura, ganadería, silvicultura, pesca y caza     6.797285e+06\n",
              "Total Secundario                                       1.366442e+07\n",
              "Industria extractiva y de la electricidad              4.054762e+05\n",
              "Industria manufacturera                                8.929007e+06\n",
              "Construcción                                           4.329934e+06\n",
              "Total terciario                                        3.304057e+07\n",
              "Comercio                                               1.016999e+07\n",
              "Restaurantes y servicios de alojamiento                4.145618e+06\n",
              "Transportes, comunicaciones correo y almacenamiento    2.779029e+06\n",
              "Servicios profesionales financieros y corporativos     3.820358e+06\n",
              "Servicios sociales                                     4.303394e+06\n",
              "Servicios diversos                                     5.544637e+06\n",
              "Gobiernos y organismos internacionales                 2.277552e+06\n",
              "No específicado                                        3.111439e+05\n",
              "dtype: float64"
            ]
          },
          "metadata": {
            "tags": []
          },
          "execution_count": 70
        }
      ]
    },
    {
      "cell_type": "markdown",
      "metadata": {
        "id": "kX64vDwdca_u"
      },
      "source": [
        "## **POSTWORK 7**"
      ]
    },
    {
      "cell_type": "markdown",
      "metadata": {
        "id": "Ji1Z1s9BswiN"
      },
      "source": [
        "**¿Cual ha sido el año con mayores oportunidades laborales?**\r\n",
        "\r\n",
        "El 2017"
      ]
    },
    {
      "cell_type": "markdown",
      "metadata": {
        "id": "LTOt1rnAxIiU"
      },
      "source": [
        "**¿Existen diferencias estadísticamente significativas en el número de ocupantes a través de los años?**\r\n",
        "\r\n",
        "No hay diferencias estadísticamente significativas, lo que nos indica que los números se han mantenido sin una mejora o disminución destacables."
      ]
    },
    {
      "cell_type": "code",
      "metadata": {
        "colab": {
          "base_uri": "https://localhost:8080/"
        },
        "id": "6cADR9kEcfW9",
        "outputId": "4954ba61-56e5-4318-a87c-57388acdb7f6"
      },
      "source": [
        "df.dtypes"
      ],
      "execution_count": 71,
      "outputs": [
        {
          "output_type": "execute_result",
          "data": {
            "text/plain": [
              "Periodo                                                object\n",
              "Total                                                   int64\n",
              "Agricultura, ganadería, silvicultura, pesca y caza      int64\n",
              "Total Secundario                                        int64\n",
              "Industria extractiva y de la electricidad               int64\n",
              "Industria manufacturera                                 int64\n",
              "Construcción                                            int64\n",
              "Total terciario                                         int64\n",
              "Comercio                                                int64\n",
              "Restaurantes y servicios de alojamiento                 int64\n",
              "Transportes, comunicaciones correo y almacenamiento     int64\n",
              "Servicios profesionales financieros y corporativos      int64\n",
              "Servicios sociales                                      int64\n",
              "Servicios diversos                                      int64\n",
              "Gobiernos y organismos internacionales                  int64\n",
              "No específicado                                         int64\n",
              "dtype: object"
            ]
          },
          "metadata": {
            "tags": []
          },
          "execution_count": 71
        }
      ]
    },
    {
      "cell_type": "code",
      "metadata": {
        "colab": {
          "base_uri": "https://localhost:8080/",
          "height": 213
        },
        "id": "boDxmuVTjkWU",
        "outputId": "2fcfc03c-1fbc-4296-b676-8a5c1ed0f55a"
      },
      "source": [
        "df_t = df.T\r\n",
        "df_t.head()"
      ],
      "execution_count": 89,
      "outputs": [
        {
          "output_type": "execute_result",
          "data": {
            "text/html": [
              "<div>\n",
              "<style scoped>\n",
              "    .dataframe tbody tr th:only-of-type {\n",
              "        vertical-align: middle;\n",
              "    }\n",
              "\n",
              "    .dataframe tbody tr th {\n",
              "        vertical-align: top;\n",
              "    }\n",
              "\n",
              "    .dataframe thead th {\n",
              "        text-align: right;\n",
              "    }\n",
              "</style>\n",
              "<table border=\"1\" class=\"dataframe\">\n",
              "  <thead>\n",
              "    <tr style=\"text-align: right;\">\n",
              "      <th></th>\n",
              "      <th>0</th>\n",
              "      <th>1</th>\n",
              "      <th>2</th>\n",
              "      <th>3</th>\n",
              "      <th>4</th>\n",
              "      <th>5</th>\n",
              "      <th>6</th>\n",
              "      <th>7</th>\n",
              "      <th>8</th>\n",
              "      <th>9</th>\n",
              "      <th>10</th>\n",
              "      <th>11</th>\n",
              "      <th>12</th>\n",
              "    </tr>\n",
              "  </thead>\n",
              "  <tbody>\n",
              "    <tr>\n",
              "      <th>Periodo</th>\n",
              "      <td>2017I</td>\n",
              "      <td>2017II</td>\n",
              "      <td>2017III</td>\n",
              "      <td>2017IV</td>\n",
              "      <td>2018I</td>\n",
              "      <td>2018II</td>\n",
              "      <td>2018III</td>\n",
              "      <td>2018IV</td>\n",
              "      <td>2019I</td>\n",
              "      <td>2019II</td>\n",
              "      <td>2019III</td>\n",
              "      <td>2019IV</td>\n",
              "      <td>2020I</td>\n",
              "    </tr>\n",
              "    <tr>\n",
              "      <th>Total</th>\n",
              "      <td>51859895</td>\n",
              "      <td>52198611</td>\n",
              "      <td>52438646</td>\n",
              "      <td>52865845</td>\n",
              "      <td>52876916</td>\n",
              "      <td>53785257</td>\n",
              "      <td>54027997</td>\n",
              "      <td>54194608</td>\n",
              "      <td>54152266</td>\n",
              "      <td>54936719</td>\n",
              "      <td>55201939</td>\n",
              "      <td>55683450</td>\n",
              "      <td>55352304</td>\n",
              "    </tr>\n",
              "    <tr>\n",
              "      <th>Agricultura, ganadería, silvicultura, pesca y caza</th>\n",
              "      <td>6537130</td>\n",
              "      <td>6696462</td>\n",
              "      <td>6954738</td>\n",
              "      <td>7056744</td>\n",
              "      <td>6720104</td>\n",
              "      <td>6717753</td>\n",
              "      <td>6993371</td>\n",
              "      <td>6874691</td>\n",
              "      <td>6591243</td>\n",
              "      <td>6731266</td>\n",
              "      <td>7007028</td>\n",
              "      <td>6909819</td>\n",
              "      <td>6574359</td>\n",
              "    </tr>\n",
              "    <tr>\n",
              "      <th>Total Secundario</th>\n",
              "      <td>13234733</td>\n",
              "      <td>13330431</td>\n",
              "      <td>13418141</td>\n",
              "      <td>13524988</td>\n",
              "      <td>13643766</td>\n",
              "      <td>13786824</td>\n",
              "      <td>13798926</td>\n",
              "      <td>13864904</td>\n",
              "      <td>13670847</td>\n",
              "      <td>13881626</td>\n",
              "      <td>13889872</td>\n",
              "      <td>13788402</td>\n",
              "      <td>13803972</td>\n",
              "    </tr>\n",
              "    <tr>\n",
              "      <th>Industria extractiva y de la electricidad</th>\n",
              "      <td>397240</td>\n",
              "      <td>408022</td>\n",
              "      <td>416136</td>\n",
              "      <td>409407</td>\n",
              "      <td>419171</td>\n",
              "      <td>417200</td>\n",
              "      <td>416354</td>\n",
              "      <td>398788</td>\n",
              "      <td>418051</td>\n",
              "      <td>396046</td>\n",
              "      <td>394964</td>\n",
              "      <td>390438</td>\n",
              "      <td>389374</td>\n",
              "    </tr>\n",
              "  </tbody>\n",
              "</table>\n",
              "</div>"
            ],
            "text/plain": [
              "                                                          0   ...        12\n",
              "Periodo                                                2017I  ...     2020I\n",
              "Total                                               51859895  ...  55352304\n",
              "Agricultura, ganadería, silvicultura, pesca y caza   6537130  ...   6574359\n",
              "Total Secundario                                    13234733  ...  13803972\n",
              "Industria extractiva y de la electricidad             397240  ...    389374\n",
              "\n",
              "[5 rows x 13 columns]"
            ]
          },
          "metadata": {
            "tags": []
          },
          "execution_count": 89
        }
      ]
    },
    {
      "cell_type": "code",
      "metadata": {
        "id": "Uajw6pNQk5fX"
      },
      "source": [
        "df_t.columns = df_t.iloc[0]"
      ],
      "execution_count": 91,
      "outputs": []
    },
    {
      "cell_type": "code",
      "metadata": {
        "colab": {
          "base_uri": "https://localhost:8080/",
          "height": 561
        },
        "id": "V4G7B1rVlQEd",
        "outputId": "73a79a8f-6317-406c-bcc4-834d7f35bfea"
      },
      "source": [
        "df_t.iloc[pd.RangeIndex(len(df_t)).drop(0)]"
      ],
      "execution_count": 92,
      "outputs": [
        {
          "output_type": "execute_result",
          "data": {
            "text/html": [
              "<div>\n",
              "<style scoped>\n",
              "    .dataframe tbody tr th:only-of-type {\n",
              "        vertical-align: middle;\n",
              "    }\n",
              "\n",
              "    .dataframe tbody tr th {\n",
              "        vertical-align: top;\n",
              "    }\n",
              "\n",
              "    .dataframe thead th {\n",
              "        text-align: right;\n",
              "    }\n",
              "</style>\n",
              "<table border=\"1\" class=\"dataframe\">\n",
              "  <thead>\n",
              "    <tr style=\"text-align: right;\">\n",
              "      <th>Periodo</th>\n",
              "      <th>2017I</th>\n",
              "      <th>2017II</th>\n",
              "      <th>2017III</th>\n",
              "      <th>2017IV</th>\n",
              "      <th>2018I</th>\n",
              "      <th>2018II</th>\n",
              "      <th>2018III</th>\n",
              "      <th>2018IV</th>\n",
              "      <th>2019I</th>\n",
              "      <th>2019II</th>\n",
              "      <th>2019III</th>\n",
              "      <th>2019IV</th>\n",
              "      <th>2020I</th>\n",
              "    </tr>\n",
              "  </thead>\n",
              "  <tbody>\n",
              "    <tr>\n",
              "      <th>Total</th>\n",
              "      <td>51859895</td>\n",
              "      <td>52198611</td>\n",
              "      <td>52438646</td>\n",
              "      <td>52865845</td>\n",
              "      <td>52876916</td>\n",
              "      <td>53785257</td>\n",
              "      <td>54027997</td>\n",
              "      <td>54194608</td>\n",
              "      <td>54152266</td>\n",
              "      <td>54936719</td>\n",
              "      <td>55201939</td>\n",
              "      <td>55683450</td>\n",
              "      <td>55352304</td>\n",
              "    </tr>\n",
              "    <tr>\n",
              "      <th>Agricultura, ganadería, silvicultura, pesca y caza</th>\n",
              "      <td>6537130</td>\n",
              "      <td>6696462</td>\n",
              "      <td>6954738</td>\n",
              "      <td>7056744</td>\n",
              "      <td>6720104</td>\n",
              "      <td>6717753</td>\n",
              "      <td>6993371</td>\n",
              "      <td>6874691</td>\n",
              "      <td>6591243</td>\n",
              "      <td>6731266</td>\n",
              "      <td>7007028</td>\n",
              "      <td>6909819</td>\n",
              "      <td>6574359</td>\n",
              "    </tr>\n",
              "    <tr>\n",
              "      <th>Total Secundario</th>\n",
              "      <td>13234733</td>\n",
              "      <td>13330431</td>\n",
              "      <td>13418141</td>\n",
              "      <td>13524988</td>\n",
              "      <td>13643766</td>\n",
              "      <td>13786824</td>\n",
              "      <td>13798926</td>\n",
              "      <td>13864904</td>\n",
              "      <td>13670847</td>\n",
              "      <td>13881626</td>\n",
              "      <td>13889872</td>\n",
              "      <td>13788402</td>\n",
              "      <td>13803972</td>\n",
              "    </tr>\n",
              "    <tr>\n",
              "      <th>Industria extractiva y de la electricidad</th>\n",
              "      <td>397240</td>\n",
              "      <td>408022</td>\n",
              "      <td>416136</td>\n",
              "      <td>409407</td>\n",
              "      <td>419171</td>\n",
              "      <td>417200</td>\n",
              "      <td>416354</td>\n",
              "      <td>398788</td>\n",
              "      <td>418051</td>\n",
              "      <td>396046</td>\n",
              "      <td>394964</td>\n",
              "      <td>390438</td>\n",
              "      <td>389374</td>\n",
              "    </tr>\n",
              "    <tr>\n",
              "      <th>Industria manufacturera</th>\n",
              "      <td>8534828</td>\n",
              "      <td>8674818</td>\n",
              "      <td>8803438</td>\n",
              "      <td>8752268</td>\n",
              "      <td>8850675</td>\n",
              "      <td>8903071</td>\n",
              "      <td>8918349</td>\n",
              "      <td>9090533</td>\n",
              "      <td>8978498</td>\n",
              "      <td>9152454</td>\n",
              "      <td>9148024</td>\n",
              "      <td>9172562</td>\n",
              "      <td>9097576</td>\n",
              "    </tr>\n",
              "    <tr>\n",
              "      <th>Construcción</th>\n",
              "      <td>4302665</td>\n",
              "      <td>4247591</td>\n",
              "      <td>4198567</td>\n",
              "      <td>4363313</td>\n",
              "      <td>4373920</td>\n",
              "      <td>4466553</td>\n",
              "      <td>4464223</td>\n",
              "      <td>4375583</td>\n",
              "      <td>4274298</td>\n",
              "      <td>4333126</td>\n",
              "      <td>4346884</td>\n",
              "      <td>4225402</td>\n",
              "      <td>4317022</td>\n",
              "    </tr>\n",
              "    <tr>\n",
              "      <th>Total terciario</th>\n",
              "      <td>31824914</td>\n",
              "      <td>31869432</td>\n",
              "      <td>31724164</td>\n",
              "      <td>31969381</td>\n",
              "      <td>32219301</td>\n",
              "      <td>32960001</td>\n",
              "      <td>32880332</td>\n",
              "      <td>33170241</td>\n",
              "      <td>33592162</td>\n",
              "      <td>34014070</td>\n",
              "      <td>33986773</td>\n",
              "      <td>34670599</td>\n",
              "      <td>34646072</td>\n",
              "    </tr>\n",
              "    <tr>\n",
              "      <th>Comercio</th>\n",
              "      <td>9728631</td>\n",
              "      <td>9640320</td>\n",
              "      <td>9602025</td>\n",
              "      <td>9672477</td>\n",
              "      <td>9734367</td>\n",
              "      <td>10109798</td>\n",
              "      <td>10152694</td>\n",
              "      <td>10082351</td>\n",
              "      <td>10442188</td>\n",
              "      <td>10681741</td>\n",
              "      <td>10664895</td>\n",
              "      <td>10915284</td>\n",
              "      <td>10783038</td>\n",
              "    </tr>\n",
              "    <tr>\n",
              "      <th>Restaurantes y servicios de alojamiento</th>\n",
              "      <td>3870568</td>\n",
              "      <td>3984017</td>\n",
              "      <td>3897828</td>\n",
              "      <td>3948343</td>\n",
              "      <td>3938603</td>\n",
              "      <td>4018289</td>\n",
              "      <td>4008740</td>\n",
              "      <td>4249632</td>\n",
              "      <td>4286975</td>\n",
              "      <td>4417000</td>\n",
              "      <td>4413137</td>\n",
              "      <td>4426705</td>\n",
              "      <td>4433200</td>\n",
              "    </tr>\n",
              "    <tr>\n",
              "      <th>Transportes, comunicaciones correo y almacenamiento</th>\n",
              "      <td>2651783</td>\n",
              "      <td>2635119</td>\n",
              "      <td>2679458</td>\n",
              "      <td>2708764</td>\n",
              "      <td>2836523</td>\n",
              "      <td>2799865</td>\n",
              "      <td>2801781</td>\n",
              "      <td>2832600</td>\n",
              "      <td>2849489</td>\n",
              "      <td>2772268</td>\n",
              "      <td>2776303</td>\n",
              "      <td>2919753</td>\n",
              "      <td>2863668</td>\n",
              "    </tr>\n",
              "    <tr>\n",
              "      <th>Servicios profesionales financieros y corporativos</th>\n",
              "      <td>3650004</td>\n",
              "      <td>3650708</td>\n",
              "      <td>3736593</td>\n",
              "      <td>3613309</td>\n",
              "      <td>3740759</td>\n",
              "      <td>3844426</td>\n",
              "      <td>3923497</td>\n",
              "      <td>3955199</td>\n",
              "      <td>3888370</td>\n",
              "      <td>3876992</td>\n",
              "      <td>3940703</td>\n",
              "      <td>3916255</td>\n",
              "      <td>3927835</td>\n",
              "    </tr>\n",
              "    <tr>\n",
              "      <th>Servicios sociales</th>\n",
              "      <td>4228677</td>\n",
              "      <td>4238259</td>\n",
              "      <td>4217580</td>\n",
              "      <td>4355484</td>\n",
              "      <td>4309249</td>\n",
              "      <td>4425435</td>\n",
              "      <td>4247132</td>\n",
              "      <td>4321009</td>\n",
              "      <td>4303960</td>\n",
              "      <td>4306357</td>\n",
              "      <td>4201119</td>\n",
              "      <td>4363848</td>\n",
              "      <td>4426008</td>\n",
              "    </tr>\n",
              "    <tr>\n",
              "      <th>Servicios diversos</th>\n",
              "      <td>5462908</td>\n",
              "      <td>5521543</td>\n",
              "      <td>5415114</td>\n",
              "      <td>5446231</td>\n",
              "      <td>5473062</td>\n",
              "      <td>5525234</td>\n",
              "      <td>5461348</td>\n",
              "      <td>5449702</td>\n",
              "      <td>5588772</td>\n",
              "      <td>5645578</td>\n",
              "      <td>5629448</td>\n",
              "      <td>5727607</td>\n",
              "      <td>5733732</td>\n",
              "    </tr>\n",
              "    <tr>\n",
              "      <th>Gobiernos y organismos internacionales</th>\n",
              "      <td>2232343</td>\n",
              "      <td>2199466</td>\n",
              "      <td>2175566</td>\n",
              "      <td>2224773</td>\n",
              "      <td>2186738</td>\n",
              "      <td>2236954</td>\n",
              "      <td>2285140</td>\n",
              "      <td>2279748</td>\n",
              "      <td>2232408</td>\n",
              "      <td>2314134</td>\n",
              "      <td>2361168</td>\n",
              "      <td>2401147</td>\n",
              "      <td>2478591</td>\n",
              "    </tr>\n",
              "    <tr>\n",
              "      <th>No específicado</th>\n",
              "      <td>263118</td>\n",
              "      <td>302286</td>\n",
              "      <td>341603</td>\n",
              "      <td>314732</td>\n",
              "      <td>293745</td>\n",
              "      <td>320679</td>\n",
              "      <td>355368</td>\n",
              "      <td>284772</td>\n",
              "      <td>298014</td>\n",
              "      <td>309757</td>\n",
              "      <td>318266</td>\n",
              "      <td>314630</td>\n",
              "      <td>327901</td>\n",
              "    </tr>\n",
              "  </tbody>\n",
              "</table>\n",
              "</div>"
            ],
            "text/plain": [
              "Periodo                                                2017I  ...     2020I\n",
              "Total                                               51859895  ...  55352304\n",
              "Agricultura, ganadería, silvicultura, pesca y caza   6537130  ...   6574359\n",
              "Total Secundario                                    13234733  ...  13803972\n",
              "Industria extractiva y de la electricidad             397240  ...    389374\n",
              "Industria manufacturera                              8534828  ...   9097576\n",
              "Construcción                                         4302665  ...   4317022\n",
              "Total terciario                                     31824914  ...  34646072\n",
              "Comercio                                             9728631  ...  10783038\n",
              "Restaurantes y servicios de alojamiento              3870568  ...   4433200\n",
              "Transportes, comunicaciones correo y almacenami...   2651783  ...   2863668\n",
              "Servicios profesionales financieros y corporativos   3650004  ...   3927835\n",
              "Servicios sociales                                   4228677  ...   4426008\n",
              "Servicios diversos                                   5462908  ...   5733732\n",
              "Gobiernos y organismos internacionales               2232343  ...   2478591\n",
              "No específicado                                       263118  ...    327901\n",
              "\n",
              "[15 rows x 13 columns]"
            ]
          },
          "metadata": {
            "tags": []
          },
          "execution_count": 92
        }
      ]
    },
    {
      "cell_type": "code",
      "metadata": {
        "colab": {
          "base_uri": "https://localhost:8080/",
          "height": 631
        },
        "id": "P6ZQG86qmGM_",
        "outputId": "97116b17-6033-492c-f1a7-808b6dda2ad7"
      },
      "source": [
        "df_t['2017 total']= df_t.iloc[:,0:4 ].sum(axis=1)\r\n",
        "print (df_t)\r\n",
        "df_t.head()"
      ],
      "execution_count": 95,
      "outputs": [
        {
          "output_type": "stream",
          "text": [
            "Periodo                                                2017I  ...                2017 total\n",
            "Periodo                                                2017I  ...  2017I2017II2017III2017IV\n",
            "Total                                               51859895  ...                 209362997\n",
            "Agricultura, ganadería, silvicultura, pesca y caza   6537130  ...                  27245074\n",
            "Total Secundario                                    13234733  ...                  53508293\n",
            "Industria extractiva y de la electricidad             397240  ...                   1630805\n",
            "Industria manufacturera                              8534828  ...                  34765352\n",
            "Construcción                                         4302665  ...                  17112136\n",
            "Total terciario                                     31824914  ...                 127387891\n",
            "Comercio                                             9728631  ...                  38643453\n",
            "Restaurantes y servicios de alojamiento              3870568  ...                  15700756\n",
            "Transportes, comunicaciones correo y almacenami...   2651783  ...                  10675124\n",
            "Servicios profesionales financieros y corporativos   3650004  ...                  14650614\n",
            "Servicios sociales                                   4228677  ...                  17040000\n",
            "Servicios diversos                                   5462908  ...                  21845796\n",
            "Gobiernos y organismos internacionales               2232343  ...                   8832148\n",
            "No específicado                                       263118  ...                   1221739\n",
            "\n",
            "[16 rows x 14 columns]\n"
          ],
          "name": "stdout"
        },
        {
          "output_type": "execute_result",
          "data": {
            "text/html": [
              "<div>\n",
              "<style scoped>\n",
              "    .dataframe tbody tr th:only-of-type {\n",
              "        vertical-align: middle;\n",
              "    }\n",
              "\n",
              "    .dataframe tbody tr th {\n",
              "        vertical-align: top;\n",
              "    }\n",
              "\n",
              "    .dataframe thead th {\n",
              "        text-align: right;\n",
              "    }\n",
              "</style>\n",
              "<table border=\"1\" class=\"dataframe\">\n",
              "  <thead>\n",
              "    <tr style=\"text-align: right;\">\n",
              "      <th>Periodo</th>\n",
              "      <th>2017I</th>\n",
              "      <th>2017II</th>\n",
              "      <th>2017III</th>\n",
              "      <th>2017IV</th>\n",
              "      <th>2018I</th>\n",
              "      <th>2018II</th>\n",
              "      <th>2018III</th>\n",
              "      <th>2018IV</th>\n",
              "      <th>2019I</th>\n",
              "      <th>2019II</th>\n",
              "      <th>2019III</th>\n",
              "      <th>2019IV</th>\n",
              "      <th>2020I</th>\n",
              "      <th>2017 total</th>\n",
              "    </tr>\n",
              "  </thead>\n",
              "  <tbody>\n",
              "    <tr>\n",
              "      <th>Periodo</th>\n",
              "      <td>2017I</td>\n",
              "      <td>2017II</td>\n",
              "      <td>2017III</td>\n",
              "      <td>2017IV</td>\n",
              "      <td>2018I</td>\n",
              "      <td>2018II</td>\n",
              "      <td>2018III</td>\n",
              "      <td>2018IV</td>\n",
              "      <td>2019I</td>\n",
              "      <td>2019II</td>\n",
              "      <td>2019III</td>\n",
              "      <td>2019IV</td>\n",
              "      <td>2020I</td>\n",
              "      <td>2017I2017II2017III2017IV</td>\n",
              "    </tr>\n",
              "    <tr>\n",
              "      <th>Total</th>\n",
              "      <td>51859895</td>\n",
              "      <td>52198611</td>\n",
              "      <td>52438646</td>\n",
              "      <td>52865845</td>\n",
              "      <td>52876916</td>\n",
              "      <td>53785257</td>\n",
              "      <td>54027997</td>\n",
              "      <td>54194608</td>\n",
              "      <td>54152266</td>\n",
              "      <td>54936719</td>\n",
              "      <td>55201939</td>\n",
              "      <td>55683450</td>\n",
              "      <td>55352304</td>\n",
              "      <td>209362997</td>\n",
              "    </tr>\n",
              "    <tr>\n",
              "      <th>Agricultura, ganadería, silvicultura, pesca y caza</th>\n",
              "      <td>6537130</td>\n",
              "      <td>6696462</td>\n",
              "      <td>6954738</td>\n",
              "      <td>7056744</td>\n",
              "      <td>6720104</td>\n",
              "      <td>6717753</td>\n",
              "      <td>6993371</td>\n",
              "      <td>6874691</td>\n",
              "      <td>6591243</td>\n",
              "      <td>6731266</td>\n",
              "      <td>7007028</td>\n",
              "      <td>6909819</td>\n",
              "      <td>6574359</td>\n",
              "      <td>27245074</td>\n",
              "    </tr>\n",
              "    <tr>\n",
              "      <th>Total Secundario</th>\n",
              "      <td>13234733</td>\n",
              "      <td>13330431</td>\n",
              "      <td>13418141</td>\n",
              "      <td>13524988</td>\n",
              "      <td>13643766</td>\n",
              "      <td>13786824</td>\n",
              "      <td>13798926</td>\n",
              "      <td>13864904</td>\n",
              "      <td>13670847</td>\n",
              "      <td>13881626</td>\n",
              "      <td>13889872</td>\n",
              "      <td>13788402</td>\n",
              "      <td>13803972</td>\n",
              "      <td>53508293</td>\n",
              "    </tr>\n",
              "    <tr>\n",
              "      <th>Industria extractiva y de la electricidad</th>\n",
              "      <td>397240</td>\n",
              "      <td>408022</td>\n",
              "      <td>416136</td>\n",
              "      <td>409407</td>\n",
              "      <td>419171</td>\n",
              "      <td>417200</td>\n",
              "      <td>416354</td>\n",
              "      <td>398788</td>\n",
              "      <td>418051</td>\n",
              "      <td>396046</td>\n",
              "      <td>394964</td>\n",
              "      <td>390438</td>\n",
              "      <td>389374</td>\n",
              "      <td>1630805</td>\n",
              "    </tr>\n",
              "  </tbody>\n",
              "</table>\n",
              "</div>"
            ],
            "text/plain": [
              "Periodo                                                2017I  ...                2017 total\n",
              "Periodo                                                2017I  ...  2017I2017II2017III2017IV\n",
              "Total                                               51859895  ...                 209362997\n",
              "Agricultura, ganadería, silvicultura, pesca y caza   6537130  ...                  27245074\n",
              "Total Secundario                                    13234733  ...                  53508293\n",
              "Industria extractiva y de la electricidad             397240  ...                   1630805\n",
              "\n",
              "[5 rows x 14 columns]"
            ]
          },
          "metadata": {
            "tags": []
          },
          "execution_count": 95
        }
      ]
    },
    {
      "cell_type": "code",
      "metadata": {
        "colab": {
          "base_uri": "https://localhost:8080/",
          "height": 668
        },
        "id": "rlIAE7P8oDHm",
        "outputId": "7fb1f43f-de48-4aea-8487-530716769ff7"
      },
      "source": [
        "df_t['2018 total']= df_t.iloc[:,5:8 ].sum(axis=1)\r\n",
        "print (df_t)\r\n",
        "df_t.head()"
      ],
      "execution_count": 99,
      "outputs": [
        {
          "output_type": "stream",
          "text": [
            "Periodo                                                2017I  ...           2018 total\n",
            "Periodo                                                2017I  ...  2018II2018III2018IV\n",
            "Total                                               51859895  ...            162007862\n",
            "Agricultura, ganadería, silvicultura, pesca y caza   6537130  ...             20585815\n",
            "Total Secundario                                    13234733  ...             41450654\n",
            "Industria extractiva y de la electricidad             397240  ...              1232342\n",
            "Industria manufacturera                              8534828  ...             26911953\n",
            "Construcción                                         4302665  ...             13306359\n",
            "Total terciario                                     31824914  ...             99010574\n",
            "Comercio                                             9728631  ...             30344843\n",
            "Restaurantes y servicios de alojamiento              3870568  ...             12276661\n",
            "Transportes, comunicaciones correo y almacenami...   2651783  ...              8434246\n",
            "Servicios profesionales financieros y corporativos   3650004  ...             11723122\n",
            "Servicios sociales                                   4228677  ...             12993576\n",
            "Servicios diversos                                   5462908  ...             16436284\n",
            "Gobiernos y organismos internacionales               2232343  ...              6801842\n",
            "No específicado                                       263118  ...               960819\n",
            "\n",
            "[16 rows x 15 columns]\n"
          ],
          "name": "stdout"
        },
        {
          "output_type": "execute_result",
          "data": {
            "text/html": [
              "<div>\n",
              "<style scoped>\n",
              "    .dataframe tbody tr th:only-of-type {\n",
              "        vertical-align: middle;\n",
              "    }\n",
              "\n",
              "    .dataframe tbody tr th {\n",
              "        vertical-align: top;\n",
              "    }\n",
              "\n",
              "    .dataframe thead th {\n",
              "        text-align: right;\n",
              "    }\n",
              "</style>\n",
              "<table border=\"1\" class=\"dataframe\">\n",
              "  <thead>\n",
              "    <tr style=\"text-align: right;\">\n",
              "      <th>Periodo</th>\n",
              "      <th>2017I</th>\n",
              "      <th>2017II</th>\n",
              "      <th>2017III</th>\n",
              "      <th>2017IV</th>\n",
              "      <th>2018I</th>\n",
              "      <th>2018II</th>\n",
              "      <th>2018III</th>\n",
              "      <th>2018IV</th>\n",
              "      <th>2019I</th>\n",
              "      <th>2019II</th>\n",
              "      <th>2019III</th>\n",
              "      <th>2019IV</th>\n",
              "      <th>2020I</th>\n",
              "      <th>2017 total</th>\n",
              "      <th>2018 total</th>\n",
              "    </tr>\n",
              "  </thead>\n",
              "  <tbody>\n",
              "    <tr>\n",
              "      <th>Periodo</th>\n",
              "      <td>2017I</td>\n",
              "      <td>2017II</td>\n",
              "      <td>2017III</td>\n",
              "      <td>2017IV</td>\n",
              "      <td>2018I</td>\n",
              "      <td>2018II</td>\n",
              "      <td>2018III</td>\n",
              "      <td>2018IV</td>\n",
              "      <td>2019I</td>\n",
              "      <td>2019II</td>\n",
              "      <td>2019III</td>\n",
              "      <td>2019IV</td>\n",
              "      <td>2020I</td>\n",
              "      <td>2017I2017II2017III2017IV</td>\n",
              "      <td>2018II2018III2018IV</td>\n",
              "    </tr>\n",
              "    <tr>\n",
              "      <th>Total</th>\n",
              "      <td>51859895</td>\n",
              "      <td>52198611</td>\n",
              "      <td>52438646</td>\n",
              "      <td>52865845</td>\n",
              "      <td>52876916</td>\n",
              "      <td>53785257</td>\n",
              "      <td>54027997</td>\n",
              "      <td>54194608</td>\n",
              "      <td>54152266</td>\n",
              "      <td>54936719</td>\n",
              "      <td>55201939</td>\n",
              "      <td>55683450</td>\n",
              "      <td>55352304</td>\n",
              "      <td>209362997</td>\n",
              "      <td>162007862</td>\n",
              "    </tr>\n",
              "    <tr>\n",
              "      <th>Agricultura, ganadería, silvicultura, pesca y caza</th>\n",
              "      <td>6537130</td>\n",
              "      <td>6696462</td>\n",
              "      <td>6954738</td>\n",
              "      <td>7056744</td>\n",
              "      <td>6720104</td>\n",
              "      <td>6717753</td>\n",
              "      <td>6993371</td>\n",
              "      <td>6874691</td>\n",
              "      <td>6591243</td>\n",
              "      <td>6731266</td>\n",
              "      <td>7007028</td>\n",
              "      <td>6909819</td>\n",
              "      <td>6574359</td>\n",
              "      <td>27245074</td>\n",
              "      <td>20585815</td>\n",
              "    </tr>\n",
              "    <tr>\n",
              "      <th>Total Secundario</th>\n",
              "      <td>13234733</td>\n",
              "      <td>13330431</td>\n",
              "      <td>13418141</td>\n",
              "      <td>13524988</td>\n",
              "      <td>13643766</td>\n",
              "      <td>13786824</td>\n",
              "      <td>13798926</td>\n",
              "      <td>13864904</td>\n",
              "      <td>13670847</td>\n",
              "      <td>13881626</td>\n",
              "      <td>13889872</td>\n",
              "      <td>13788402</td>\n",
              "      <td>13803972</td>\n",
              "      <td>53508293</td>\n",
              "      <td>41450654</td>\n",
              "    </tr>\n",
              "    <tr>\n",
              "      <th>Industria extractiva y de la electricidad</th>\n",
              "      <td>397240</td>\n",
              "      <td>408022</td>\n",
              "      <td>416136</td>\n",
              "      <td>409407</td>\n",
              "      <td>419171</td>\n",
              "      <td>417200</td>\n",
              "      <td>416354</td>\n",
              "      <td>398788</td>\n",
              "      <td>418051</td>\n",
              "      <td>396046</td>\n",
              "      <td>394964</td>\n",
              "      <td>390438</td>\n",
              "      <td>389374</td>\n",
              "      <td>1630805</td>\n",
              "      <td>1232342</td>\n",
              "    </tr>\n",
              "  </tbody>\n",
              "</table>\n",
              "</div>"
            ],
            "text/plain": [
              "Periodo                                                2017I  ...           2018 total\n",
              "Periodo                                                2017I  ...  2018II2018III2018IV\n",
              "Total                                               51859895  ...            162007862\n",
              "Agricultura, ganadería, silvicultura, pesca y caza   6537130  ...             20585815\n",
              "Total Secundario                                    13234733  ...             41450654\n",
              "Industria extractiva y de la electricidad             397240  ...              1232342\n",
              "\n",
              "[5 rows x 15 columns]"
            ]
          },
          "metadata": {
            "tags": []
          },
          "execution_count": 99
        }
      ]
    },
    {
      "cell_type": "code",
      "metadata": {
        "colab": {
          "base_uri": "https://localhost:8080/",
          "height": 668
        },
        "id": "HGRODbThoU4m",
        "outputId": "31da5bee-b30a-42b6-bdee-300d58c360d0"
      },
      "source": [
        "df_t['2019 total']= df_t.iloc[:,9:12 ].sum(axis=1)\r\n",
        "print (df_t)\r\n",
        "df_t.head()"
      ],
      "execution_count": 100,
      "outputs": [
        {
          "output_type": "stream",
          "text": [
            "Periodo                                                2017I  ...           2019 total\n",
            "Periodo                                                2017I  ...  2019II2019III2019IV\n",
            "Total                                               51859895  ...            165822108\n",
            "Agricultura, ganadería, silvicultura, pesca y caza   6537130  ...             20648113\n",
            "Total Secundario                                    13234733  ...             41559900\n",
            "Industria extractiva y de la electricidad             397240  ...              1181448\n",
            "Industria manufacturera                              8534828  ...             27473040\n",
            "Construcción                                         4302665  ...             12905412\n",
            "Total terciario                                     31824914  ...            102671442\n",
            "Comercio                                             9728631  ...             32261920\n",
            "Restaurantes y servicios de alojamiento              3870568  ...             13256842\n",
            "Transportes, comunicaciones correo y almacenami...   2651783  ...              8468324\n",
            "Servicios profesionales financieros y corporativos   3650004  ...             11733950\n",
            "Servicios sociales                                   4228677  ...             12871324\n",
            "Servicios diversos                                   5462908  ...             17002633\n",
            "Gobiernos y organismos internacionales               2232343  ...              7076449\n",
            "No específicado                                       263118  ...               942653\n",
            "\n",
            "[16 rows x 16 columns]\n"
          ],
          "name": "stdout"
        },
        {
          "output_type": "execute_result",
          "data": {
            "text/html": [
              "<div>\n",
              "<style scoped>\n",
              "    .dataframe tbody tr th:only-of-type {\n",
              "        vertical-align: middle;\n",
              "    }\n",
              "\n",
              "    .dataframe tbody tr th {\n",
              "        vertical-align: top;\n",
              "    }\n",
              "\n",
              "    .dataframe thead th {\n",
              "        text-align: right;\n",
              "    }\n",
              "</style>\n",
              "<table border=\"1\" class=\"dataframe\">\n",
              "  <thead>\n",
              "    <tr style=\"text-align: right;\">\n",
              "      <th>Periodo</th>\n",
              "      <th>2017I</th>\n",
              "      <th>2017II</th>\n",
              "      <th>2017III</th>\n",
              "      <th>2017IV</th>\n",
              "      <th>2018I</th>\n",
              "      <th>2018II</th>\n",
              "      <th>2018III</th>\n",
              "      <th>2018IV</th>\n",
              "      <th>2019I</th>\n",
              "      <th>2019II</th>\n",
              "      <th>2019III</th>\n",
              "      <th>2019IV</th>\n",
              "      <th>2020I</th>\n",
              "      <th>2017 total</th>\n",
              "      <th>2018 total</th>\n",
              "      <th>2019 total</th>\n",
              "    </tr>\n",
              "  </thead>\n",
              "  <tbody>\n",
              "    <tr>\n",
              "      <th>Periodo</th>\n",
              "      <td>2017I</td>\n",
              "      <td>2017II</td>\n",
              "      <td>2017III</td>\n",
              "      <td>2017IV</td>\n",
              "      <td>2018I</td>\n",
              "      <td>2018II</td>\n",
              "      <td>2018III</td>\n",
              "      <td>2018IV</td>\n",
              "      <td>2019I</td>\n",
              "      <td>2019II</td>\n",
              "      <td>2019III</td>\n",
              "      <td>2019IV</td>\n",
              "      <td>2020I</td>\n",
              "      <td>2017I2017II2017III2017IV</td>\n",
              "      <td>2018II2018III2018IV</td>\n",
              "      <td>2019II2019III2019IV</td>\n",
              "    </tr>\n",
              "    <tr>\n",
              "      <th>Total</th>\n",
              "      <td>51859895</td>\n",
              "      <td>52198611</td>\n",
              "      <td>52438646</td>\n",
              "      <td>52865845</td>\n",
              "      <td>52876916</td>\n",
              "      <td>53785257</td>\n",
              "      <td>54027997</td>\n",
              "      <td>54194608</td>\n",
              "      <td>54152266</td>\n",
              "      <td>54936719</td>\n",
              "      <td>55201939</td>\n",
              "      <td>55683450</td>\n",
              "      <td>55352304</td>\n",
              "      <td>209362997</td>\n",
              "      <td>162007862</td>\n",
              "      <td>165822108</td>\n",
              "    </tr>\n",
              "    <tr>\n",
              "      <th>Agricultura, ganadería, silvicultura, pesca y caza</th>\n",
              "      <td>6537130</td>\n",
              "      <td>6696462</td>\n",
              "      <td>6954738</td>\n",
              "      <td>7056744</td>\n",
              "      <td>6720104</td>\n",
              "      <td>6717753</td>\n",
              "      <td>6993371</td>\n",
              "      <td>6874691</td>\n",
              "      <td>6591243</td>\n",
              "      <td>6731266</td>\n",
              "      <td>7007028</td>\n",
              "      <td>6909819</td>\n",
              "      <td>6574359</td>\n",
              "      <td>27245074</td>\n",
              "      <td>20585815</td>\n",
              "      <td>20648113</td>\n",
              "    </tr>\n",
              "    <tr>\n",
              "      <th>Total Secundario</th>\n",
              "      <td>13234733</td>\n",
              "      <td>13330431</td>\n",
              "      <td>13418141</td>\n",
              "      <td>13524988</td>\n",
              "      <td>13643766</td>\n",
              "      <td>13786824</td>\n",
              "      <td>13798926</td>\n",
              "      <td>13864904</td>\n",
              "      <td>13670847</td>\n",
              "      <td>13881626</td>\n",
              "      <td>13889872</td>\n",
              "      <td>13788402</td>\n",
              "      <td>13803972</td>\n",
              "      <td>53508293</td>\n",
              "      <td>41450654</td>\n",
              "      <td>41559900</td>\n",
              "    </tr>\n",
              "    <tr>\n",
              "      <th>Industria extractiva y de la electricidad</th>\n",
              "      <td>397240</td>\n",
              "      <td>408022</td>\n",
              "      <td>416136</td>\n",
              "      <td>409407</td>\n",
              "      <td>419171</td>\n",
              "      <td>417200</td>\n",
              "      <td>416354</td>\n",
              "      <td>398788</td>\n",
              "      <td>418051</td>\n",
              "      <td>396046</td>\n",
              "      <td>394964</td>\n",
              "      <td>390438</td>\n",
              "      <td>389374</td>\n",
              "      <td>1630805</td>\n",
              "      <td>1232342</td>\n",
              "      <td>1181448</td>\n",
              "    </tr>\n",
              "  </tbody>\n",
              "</table>\n",
              "</div>"
            ],
            "text/plain": [
              "Periodo                                                2017I  ...           2019 total\n",
              "Periodo                                                2017I  ...  2019II2019III2019IV\n",
              "Total                                               51859895  ...            165822108\n",
              "Agricultura, ganadería, silvicultura, pesca y caza   6537130  ...             20648113\n",
              "Total Secundario                                    13234733  ...             41559900\n",
              "Industria extractiva y de la electricidad             397240  ...              1181448\n",
              "\n",
              "[5 rows x 16 columns]"
            ]
          },
          "metadata": {
            "tags": []
          },
          "execution_count": 100
        }
      ]
    },
    {
      "cell_type": "code",
      "metadata": {
        "colab": {
          "base_uri": "https://localhost:8080/"
        },
        "id": "wM0S606Pq8Ts",
        "outputId": "b0a31527-a5c6-4326-db43-202fa32aa15f"
      },
      "source": [
        "df_t.columns"
      ],
      "execution_count": 105,
      "outputs": [
        {
          "output_type": "execute_result",
          "data": {
            "text/plain": [
              "Index(['2017I', '2017II', '2017III', '2017IV', '2018I', '2018II', '2018III',\n",
              "       '2018IV', '2019I', '2019II', '2019III', '2019IV', '2020I', '2017 total',\n",
              "       '2018 total', '2019 total'],\n",
              "      dtype='object', name='Periodo')"
            ]
          },
          "metadata": {
            "tags": []
          },
          "execution_count": 105
        }
      ]
    },
    {
      "cell_type": "code",
      "metadata": {
        "id": "OXsTRDHapvuB"
      },
      "source": [
        "totales_años = df_t[['2017 total', '2018 total', '2019 total', '2020I']].copy()"
      ],
      "execution_count": 111,
      "outputs": []
    },
    {
      "cell_type": "code",
      "metadata": {
        "colab": {
          "base_uri": "https://localhost:8080/"
        },
        "id": "ADNbMI4grPv0",
        "outputId": "3bf6bdb5-c12d-4047-e081-9739934f4ed5"
      },
      "source": [
        "totales_años.mean(axis= 0)"
      ],
      "execution_count": 109,
      "outputs": [
        {
          "output_type": "execute_result",
          "data": {
            "text/plain": [
              "Periodo\n",
              "2017 total    3.997481e+07\n",
              "2018 total    3.096513e+07\n",
              "2019 total    3.172504e+07\n",
              "2020I         1.061031e+07\n",
              "dtype: float64"
            ]
          },
          "metadata": {
            "tags": []
          },
          "execution_count": 109
        }
      ]
    },
    {
      "cell_type": "code",
      "metadata": {
        "colab": {
          "base_uri": "https://localhost:8080/"
        },
        "id": "jCWAQ4ZGwAph",
        "outputId": "3710efec-e998-4d4c-add8-7ea2936ecad0"
      },
      "source": [
        "print(totales_años)"
      ],
      "execution_count": 114,
      "outputs": [
        {
          "output_type": "stream",
          "text": [
            "Periodo                                            2017 total  ...     2020I\n",
            "Total                                               209362997  ...  55352304\n",
            "Agricultura, ganadería, silvicultura, pesca y caza   27245074  ...   6574359\n",
            "Total Secundario                                     53508293  ...  13803972\n",
            "Industria extractiva y de la electricidad             1630805  ...    389374\n",
            "Industria manufacturera                              34765352  ...   9097576\n",
            "Construcción                                         17112136  ...   4317022\n",
            "Total terciario                                     127387891  ...  34646072\n",
            "Comercio                                             38643453  ...  10783038\n",
            "Restaurantes y servicios de alojamiento              15700756  ...   4433200\n",
            "Transportes, comunicaciones correo y almacenami...   10675124  ...   2863668\n",
            "Servicios profesionales financieros y corporativos   14650614  ...   3927835\n",
            "Servicios sociales                                   17040000  ...   4426008\n",
            "Servicios diversos                                   21845796  ...   5733732\n",
            "Gobiernos y organismos internacionales                8832148  ...   2478591\n",
            "No específicado                                       1221739  ...    327901\n",
            "\n",
            "[15 rows x 4 columns]\n"
          ],
          "name": "stdout"
        }
      ]
    },
    {
      "cell_type": "code",
      "metadata": {
        "id": "X_V4CyPr4-V1"
      },
      "source": [
        "kruskal = totales_años.drop('Total')\r\n",
        "kruskal = totales_años.drop('Total Secundario', inplace = True)\r\n",
        "kruskal = totales_años.drop('Total terciario', inplace = True)"
      ],
      "execution_count": null,
      "outputs": []
    },
    {
      "cell_type": "code",
      "metadata": {
        "id": "Ko254Ay76GJH"
      },
      "source": [
        "ano_2017 = kruskal[['2017 total']].to_numpy()\r\n",
        "ano_2018 = kruskal[['2018 total']].to_numpy()\r\n",
        "ano_2019 = kruskal[['2019 total']].to_numpy()"
      ],
      "execution_count": 134,
      "outputs": []
    },
    {
      "cell_type": "code",
      "metadata": {
        "id": "YzLSCMoE6gQ9"
      },
      "source": [
        "from scipy import stats\r\n",
        "shapiro_2017 = stats.shapiro(ano_2017)\r\n",
        "shapiro_2018 = stats.shapiro(ano_2018)\r\n",
        "shapiro_2019 = stats.shapiro(ano_2019)"
      ],
      "execution_count": 135,
      "outputs": []
    },
    {
      "cell_type": "code",
      "metadata": {
        "colab": {
          "base_uri": "https://localhost:8080/"
        },
        "id": "cgiUCZIZ65Ag",
        "outputId": "8f09d7f6-a287-49be-fc97-e14fbf625f4c"
      },
      "source": [
        "print(shapiro_2017);\r\n",
        "print(shapiro_2018);\r\n",
        "print(shapiro_2019) #Datos no parametricos"
      ],
      "execution_count": 136,
      "outputs": [
        {
          "output_type": "stream",
          "text": [
            "(0.6374787092208862, 0.00014065206050872803)\n",
            "(0.6348791718482971, 0.00013321223377715796)\n",
            "(0.6340087056159973, 0.00013081580982543528)\n"
          ],
          "name": "stdout"
        }
      ]
    },
    {
      "cell_type": "code",
      "metadata": {
        "colab": {
          "base_uri": "https://localhost:8080/"
        },
        "id": "4Wfu4-Ac7JsW",
        "outputId": "42d85bce-b089-4e16-ead7-b3ed2705d556"
      },
      "source": [
        "stats.kruskal(ano_2017, ano_2018, ano_2019)"
      ],
      "execution_count": 137,
      "outputs": [
        {
          "output_type": "execute_result",
          "data": {
            "text/plain": [
              "KruskalResult(statistic=1.222485207100604, pvalue=0.5426761186659763)"
            ]
          },
          "metadata": {
            "tags": []
          },
          "execution_count": 137
        }
      ]
    },
    {
      "cell_type": "code",
      "metadata": {
        "id": "SmmcGu-i9sfR"
      },
      "source": [
        ""
      ],
      "execution_count": null,
      "outputs": []
    }
  ]
}