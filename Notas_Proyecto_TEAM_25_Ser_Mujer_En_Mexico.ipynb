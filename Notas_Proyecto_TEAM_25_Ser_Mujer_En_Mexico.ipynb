{
  "nbformat": 4,
  "nbformat_minor": 0,
  "metadata": {
    "colab": {
      "name": "Notas_Proyecto_TEAM-25_Ser_Mujer_En_Mexico.ipynb",
      "provenance": [],
      "collapsed_sections": [],
      "toc_visible": true,
      "include_colab_link": true
    },
    "kernelspec": {
      "name": "python3",
      "display_name": "Python 3"
    }
  },
  "cells": [
    {
      "cell_type": "markdown",
      "metadata": {
        "id": "view-in-github",
        "colab_type": "text"
      },
      "source": [
        "<a href=\"https://colab.research.google.com/github/FanyEstAg/Team-25-Proyecto_M3/blob/main/Notas_Proyecto_TEAM_25_Ser_Mujer_En_Mexico.ipynb\" target=\"_parent\"><img src=\"https://colab.research.google.com/assets/colab-badge.svg\" alt=\"Open In Colab\"/></a>"
      ]
    },
    {
      "cell_type": "markdown",
      "metadata": {
        "id": "K7FC0hY7Gx5j"
      },
      "source": [
        "# <font color=Cyclamen>  **Ser Mujer En Mexico, Estadísticas** </font>\r\n",
        "---\r\n",
        "#### <font color=Deeppink> *TEAM 25* </font>\r\n",
        "\r\n",
        "<font color=violet> \r\n",
        "&#9674;  Ana Machargo <br>\r\n",
        "&#9674;  Angélica Rivera <br>\r\n",
        "&#9674;  Estefanía Estrada <br>\r\n",
        "&#9674;  Teresa Carrillo <br>\r\n",
        "</font>\r\n",
        "\r\n",
        "---\r\n",
        "\r\n",
        "\r\n",
        "\r\n",
        "\r\n",
        "\r\n",
        "\r\n"
      ]
    },
    {
      "cell_type": "markdown",
      "metadata": {
        "id": "w5McA7kf8Tdf"
      },
      "source": [
        "<img src=\"https://miro.medium.com/max/6310/1*vYTBrdCB6zTwBGErotsgmQ.jpeg\" alt=\"Alt text that describes the graphic\" title=\"Title text\" />"
      ]
    },
    {
      "cell_type": "markdown",
      "metadata": {
        "id": "XR68Y0Ff9VeQ"
      },
      "source": [
        "## <font color=violet> **1  IDENTIFICACIÓN DEL PROBLEMA** </font>\r\n",
        "\r\n",
        "El estudio de la oferta laboral femenina es relevante debido a que tiene importantes implicaciones en diversos aspectos individuales y familiares, tales como el estado conyugal, la fertilidad, la distribuciónde los ingresos familiares y las brechas entre los salarios de hombres y mujeres. En economías como la mexicana es posible que el tiempo que las mujeres dedican al trabajo doméstico explique la lenta incorporación de las mismas al mercado de trabajo, convirtiéndose así en una barrera de entrada. De esta manera, proyecciones acerca de las oportunidades laborales de la mujer se vuelven necesarias para una adecuada planeación, diseño e implementación de políticas públicas cuyo objetivo principal sea ensanchar las oportunidades de conseguir un trabajo digno. \r\n",
        "\r\n",
        "La inequidad de género se puede expresar en diversos ambientes:\r\n",
        "\r\n",
        " * Laboral\r\n",
        "  * Acoso Sexual\r\n",
        "  * Salario menor\r\n",
        "  * Motivos de desempleo (maternidad, educación, etc.)\r\n",
        "  * Motivos de renuncia (mobbing, acoso, etc.)\r\n",
        "  * Motivos de despido (embarazo, acoso, etc.)\r\n",
        "  * Crecimiento (Techos de cristal)\r\n",
        "  * Informalidad (trabajos domésticos, ambulantes, etc.)\r\n",
        "  * Seguridad Social (la falta de)\r\n",
        "  *  **Hostigamiento \"mobbing\"**\r\n",
        "\r\n",
        " * Social\r\n",
        "  * Superwoman (alta exigencia en todos los niveles sociales)\r\n",
        "  * Feminicidios\r\n",
        "  * Acoso Sexual\r\n",
        "  * Abuso Sexual\r\n",
        "  * Discriminación (índigenas, en servicio de atención a clientes, al volante, etc.)\r\n",
        "  * Violencia (transporte, calle, vecines, etc.)\r\n",
        "  * **Arbitrariedad**\r\n",
        "\r\n",
        " * Familiar\r\n",
        "  * Abuso Sexual\r\n",
        "  * Violencia\r\n",
        "  * Acoso Sexual\r\n",
        "  * Machismo\r\n",
        "  * **Opresión**\r\n",
        "\r\n",
        " * Escolar\r\n",
        "  * Embarazo\r\n",
        "  * Acoso Sexual\r\n",
        "  * Abuso Sexual \r\n",
        "  * Estereotipos \r\n",
        "  * **Demeritación**\r\n",
        "\r\n",
        "* Salud\r\n",
        "  * Aborto\r\n",
        "  * Embarazo no deseado\r\n",
        "  * Virus (VPH, VIH)\r\n",
        "  * Enfermedades (cronicodegenerativas,etc.)\r\n",
        "  * Pensión\r\n",
        "  * Acoso Sexual\r\n",
        "  * Abuso Sexual\r\n",
        "  * **Despotismo**\r\n"
      ]
    },
    {
      "cell_type": "markdown",
      "metadata": {
        "id": "-s9lph6s9eF8"
      },
      "source": [
        "\r\n",
        "### <font color=Deeppink> **1.1 Investigación** </FONT>\r\n",
        "\r\n",
        "La acelerada incorporación de las mujeres al trabajo extradoméstrico y su incremento en la matrícula universitaria constituyen cambios sociales sin precedente que transformaron radicalmente las sociedades de la segunda mitad del siglo XX. Junto con el aumento de la participación femenina en la economía y el nuevo perfil de la división sexual del trabajo, durante los últimos años hemos sido testigos de otros cambios dramáticos producidos por la globalización de los mercados financieros y laborales, el acelerado desarrollo científico y tecnológico, la creciente importancia de las comunicaciones y de los sistemas de transporte, y la transformación de algunas de las grandes organizaciones públicas y privadas (Zabludovsky, 2007). \r\n",
        "\r\n",
        "La igualdad entre géneros no solo es un derecho humano fundamental, sino también una herramienta indispensable para llegar a un mundo pacífico, próspero y sostenible (Aguilar, 2020). Tomando esto en cuenta, es impactante que no se ha logrado una equidad laboral en pleno siglo XXI donde la mujer se encuentra en una situación de vulnerabilidad, siendo discriminada y catalogada por su género y no por sus capacidades. \r\n",
        "\r\n",
        "La ausencia de la mujer en las profesiones era consecuencia de la dificultad de romper los rígidos principios morales y jurídicos que estaban influenciados por un contexto social donde la presión estaba presente a la hora de inscribirse en las facultades para ser parte de las “profesiones masculinas”. Aunque en las últimas décadas han incrementado su nivel de educación y su inserción en el mercado laboral, existe desigualdad salarial por sexo (Rodríguez y Castro-Lugo, 2011). El hecho de que aún exista un desnivel en materia laboral se debe a tres cosas: la primera es la falta de entendimiento de la sociedad de entender que lo femenino y lo masculino es una construcción cultural en donde predomina la asignación de papeles diferenciales, pero no tiene nada que ver con las condiciones desiguales en espacios públicos y privados (Aguilar, 2020). Dicha desigualdad es producto de una construcción social, conocida como el sistema sexo/género. Donde el género constituye una concepción creada a partir de las diferencias de sexo que distingue culturalmente a las mujeres de los hombres y les atribuye características diferentes (Rodríguez y Castro-Lugo, 2011). Por otra parte, la incoherencia jurídica institucional y social que no quiere hacer frente a las nuevas necesidades de mujeres y hombres en sus relaciones laborales y su estado de bienestar, junto con que no quiere revisar las discriminaciones por sexo en referencia al desempeño laboral. La tercera causa es la influencia y el apego a la religión católica, este tema influye en su mayoría en los países de América Latina, en donde se mantienen los patrones tradicionales de familia y reproducción (Aguilar, 2020).\r\n",
        "\r\n",
        "En la [Encuesta Nacional de Ocupación y Empleo (ENOE), población de 15 años y más de edad](https://www.inegi.org.mx/programas/enoe/15ymas/#Tabulados) se ha encontrado toda la información correspondiente a la empleabilidad y desempleabilidad de las personas, por estado, género y fecha (2005 - 2020) en tabuladores que pueden ser descargados como formato CSV.\r\n",
        "\r\n",
        "En el artículo [\"Equidad laboral con perspectiva de género en México\"](https://cegresados.udlap.mx/equidad-laboral-con-perspectiva-de-genero-en-mexico/) se presenta un resumen de los diversos aspectos que repercuten negativamente directamente en la condición de ser mujer trabajadora en México en relación a raza, salaraio, acoso, oportunidades, entre otros, así como se introduce el término de **superwoman**.\r\n",
        "\r\n",
        "[\"Los indicadores clave de la OCDE \"](http://www.oecd.org/centrodemexico/estadisticas/) validan las estadísticas en cuanto a empleo por género en los países miembro.\r\n",
        "\r\n",
        "[\"La Búsqueda de la Igualdad de Género, una Batalla Cuesta Arriba\"](https://www.oecd.org/centrodemexico/publicaciones/Busqueda%20igualdad%20de%20genero-RESUMEN.pdf) presenta un resumen de la obra [\"The Pursuit of Gender Equality, An Uphill Battle\"](https://www.oecd-ilibrary.org/social-issues-migration-health/the-pursuit-of-gender-equality_9789264281318-en) que aborda la problemática de desigualdad de género en porentajes y las acciones que se han llevado a cabo para dar solución en los países miembro, así como los beneficios que contrae el adoptar políticas que equilibren la balanza en cuestión de género. Dentro de la obra original se muestra el detalle de la investigación e incluye graficas, documentos y tablas relacionadas con la equidad de género en los ambientes de empleo, educación y emprendimiento.\r\n",
        "\r\n",
        "México sólo podrá posicionarse a nivel internacional cuando exista igualdad de género con las mujeres participando plenamente en la economía, la sociedad y la política. Se debe de reconocer la competitividad y la productividad de las mujeres mexicanas para poderlo potenciar de la manera correcta y que de esta manera se desarrolle una mejora en cuanto a condiciones de equidad."
      ]
    },
    {
      "cell_type": "markdown",
      "metadata": {
        "id": "oaZkRC20-cjt"
      },
      "source": [
        "### <font color=Deeppink> **1.2 Búsqueda de soluciones anteriores** </font>\r\n",
        "\r\n",
        "La oferta laboral femenina es uno de los temas socioeconómicos que ha adquirido gran relevancia en los últimos anos. Es por ello que se han realizado múltiples estudios que buscan explicar las marcadas diferencias entre la participación de la mujer y la del hombre en las actividades productivas y reproductivas.\r\n",
        "\r\n",
        "En un estudio realizado por Colinas (2008) se hace un diagnóstico de la relación que existe entre empleo, protección social y maternidad en el caso de México. El objetivo de dicho análisis era ofrecer un panorama general de la situación de las mujeres en el mercado laboral y su acceso a la protección social. El autor concluye que en México las desigualdades (la brecha salarial y la segregación ocupacional) persisten, situación que se explica por factores como la segregación en el mercado laboral y en la familia y por la asignación de tareas basadas en estereotipos de género.\r\n",
        "\r\n",
        "En otro trabajo, Domínguez y Brown (2013) proponen que el trabajo desde el domicilio es funcional por la presencia de hijos que dificulta la participación femenina fuera del hogar, lo que sugiere que el número de escuelas y guarderías con horarios adecuados para que las madres puedan tener más opciones laborales es insuficiente.\r\n",
        "\r\n",
        "Por otro parte, Licona (2000) analizó el efecto de la pobreza en el suministro de mano de obra femenina. Su hallazgo principal consiste en que los salarios reales disminuyen cuando empeora la situación económica del país y que las mujeres que forman parte de familias de bajos ingresos aumentan su participación en el mercado laboral con la finalidad de mantener un nivel de consumo de subsistencia. Así, es frecuente que uno de los principales motivos por el cual las mujeres se incorporan al mercado laboral es para mantener un nivel de subsistencia o conservar un nivel de ingresos. La condición asimétrica adversa de la mujer enel mercado de trabajo es un fenómeno observable en otros países industrialmente rezagados. \r\n",
        "\r\n",
        "Estos antecedentes nos confirman que a pesar de los avances en el tema de equidad de género en el mercado laboral, aún quedan diferentes retos por superar y vacíos por llenar.\r\n",
        "\r\n",
        "En el [\"Monógrafico: Igualdad de Género en el Trabajo\"](https://www.educaweb.com/publicaciones/monografico/2019/igualdad-genero-trabajo/) se aborda el reportaje que expone la problemática respecto a la brecha salarial y los techos de cristal así como de las soluciones que podrían adoptarse, en España, También expone entrevistas relacionadas al tema realizadas a mujeres en altos puestos  de trabajo, así como opiniones, cursos y video. Entre las soluciones destacan la implementación de leyes, políticas, la realización de planes de equidad, decretos, informar y orientar.\r\n",
        "\r\n",
        "El documento [\"Guía Buenas Prácticas Para Integrar La Igualdad De Género En Las Empresas\"](http://www.fundacionmujeres.es/img/Document/15025/documento.pdf) define que los pasos para llegar a una equidad laboral implica tres pasos:\r\n",
        "\r\n",
        "\r\n",
        "   * Informar, sensibilizar y digusión en las empresas acerca de las implicaciones y ventajas en materia de igualdad de oportunidades.\r\n",
        "   * Diagnósticar las prácticas actuales.\r\n",
        "   * Proactividad en la generación de soluciones (talleres, auditorías, asesoramiento. planes, implantación, desarrollo y seguimiento).\r\n",
        "\r\n",
        "Adicionalmente presenta ejemplos de como algunas empresas aplican la equidad de género mediante buenas prácticas de contratción, formación, promoción y desarrollo, entre otras que se han implementado en España.\r\n",
        "\r\n",
        "Según el artículo  [\"6 de cada 10 mexicanas denuncian problema de equidad\" ](https://www.occ.com.mx/blog/mexicanas-denuncian-problema-equidad/) de OCC Mundialse muestran porcentajes que avalan el problema de equidad de género en el entorno laboral.\r\n",
        "\r\n",
        "En el comunicado de prensa [\"COPARMEX IMPLEMENTA 10 ACCIONES PARA ERRADICAR DESIGUALDAD DE GÉNERO LABORAL Y ECONÓMICA\"](https://coparmexnl.org.mx/2020/02/21/10-acciones-para-erradicar-desigualdad-de-genero-laboral-y-economica/) Se persenta un listado de soluciones que la confederación patronal ha implementado para avanzar en la erradicacaión de la desigualdad de género laboral y económica.\r\n",
        "\r\n"
      ]
    },
    {
      "cell_type": "markdown",
      "metadata": {
        "id": "PROgpm-sIgeH"
      },
      "source": [
        "### <font color=Deeppink> **1.3 Referencias**\r\n",
        "\r\n",
        "\r\n",
        "- Zabludovsky, Gina. (2007). Las mujeres en México: trabajo, educación superior y esferas de poder. Política y cultura, (28), 09-41. Recuperado en 08 de marzo de 2021, de http://www.scielo.org.mx/scielo.php?script=sci_arttext&pid=S0188-77422007000200002&lng=es&tlng=es\r\n",
        "- Aguilar, Andrea (2020).Condiciones laborales de la Mujer en México. Maken. Recuperado de: https://www.maken.mx/post/condiciones-laborales-de-la-mujer-en-m%C3%A9xico\r\n",
        "- Sánchez Vargas, Armando, Herrera Merino, Ana Liz, & Perrotini Hernández, Ignacio. (2015). La participación laboral femenina y el uso del tiempo en el cuidado del hogar en México. Contaduría y administración, 60(3), 651-662. https://doi.org/10.1016/j.cya.2015.05.013\r\n",
        "- Rodríguez Pérez, Reyna Elizabeth, & Castro-Lugo, David. (2014). Discriminación salarial de la mujer en el mercado laboral de México y sus regiones. Economía, sociedad y territorio, 14(46), 687-714. Recuperado en 08 de marzo de 2021, de http://www.scielo.org.mx/scielo.php?script=sci_arttext&pid=S1405-84212014000300004&lng=es&tlng=es.\r\n",
        "- Colinas L (2008). Economía productiva y reproductiva en México: un llamado a la Conciliación. Serie Estudios y Perspectivas, No. 94, CEPAL/México. \r\n",
        "- L. Domínguez, F. Brown. Diferencias de género en la elección del sitio de trabajo en un contexto de crisis. CEPAL. 2013; 111:83p.\r\n",
        "- G. Licona. Reshaping the labor supply curve for the poor. Río de Janeiro, Brasil: Annual Meeting of the Latin American and Caribbean Economic Association; 2000.\r\n",
        "\r\n"
      ]
    },
    {
      "cell_type": "markdown",
      "metadata": {
        "id": "45H6oRiw9V4X"
      },
      "source": [
        "## <font color=violet> **2 PLANTEAMIENTO DE PREGUNTAS CLAVE**\r\n",
        "\r\n",
        "Derivado de la problemática de inequidad de géneo que ha sido avalado por fuentes tales como OCC Mundial, OCDE, entre otras instituciones, se presenta la urgente necesidad de validar las oportunidades que como mujer tendré en México entorno al ámbito laboral con la finalidad de preparme para el futuro a conciencia y con un enfoque aterrizado a la realidad.\r\n",
        "\r\n"
      ]
    },
    {
      "cell_type": "markdown",
      "metadata": {
        "id": "RQruXpax_WHw"
      },
      "source": [
        "### <font color=Deeppink> **2.1 Problema** </font>\r\n",
        "\r\n",
        "Proyectar que tan probable es tener un plan de carrera exitoso siendo mujer, es decir, contar con un trabajo que cumpla las siguientes características:\r\n",
        " - Justamente remunerado\r\n",
        " - Jornada laboral adecuada\r\n",
        " - Sin riesgo de despido injustificado o por causas de género \r\n",
        " - Ambiente de trabajo profesional\r\n",
        "\r\n"
      ]
    },
    {
      "cell_type": "markdown",
      "metadata": {
        "id": "gi6MeC12_dN0"
      },
      "source": [
        "### <font color=Deeppink> **2.2 Cuestionamientos**\r\n",
        "\r\n",
        "1. ¿Cual sería la expectativa salarial siendo mujer?\r\n",
        "\r\n",
        "2. A través de los años ¿El ingreso, con base al salario mínimo, ha aumentado para las mujeres?\r\n",
        "\r\n",
        "3. ¿La cantidad de mujeres que obtienen ingresos ha aumentado a través de los años?\r\n",
        "\r\n",
        "4. En un lapso de 10 años ¿Cuál es el promedio de ingreso de salarios mínimos para las mujeres?\r\n",
        "\r\n",
        "5. ¿Que sector económico proyecta una mejor oportunidad de crecimiento a futuro?\r\n",
        "\r\n",
        "6. ¿Que actividad economica se proyecta con una mejor oportunidad de crecimiento a futuro?\r\n",
        "\r\n",
        "7. ¿Cual ha sido el año con mayores oportunidades laborales?\r\n",
        "\r\n",
        "8. ¿Existen diferencias estadísticamente significativas en el número de ocupantes a través de los años?\r\n",
        "\r\n",
        "9. ¿Cual es el motivo de despido o abandono de empleo más probable siendo mujer?\r\n",
        "\r\n",
        "\r\n",
        "\r\n"
      ]
    },
    {
      "cell_type": "markdown",
      "metadata": {
        "id": "WtnePud3BYAE"
      },
      "source": [
        "## <font color=violet> **3 COLECCIÓN DE DATOS**\r\n",
        "\r\n",
        "### Link de los datasets\r\n",
        "\r\n",
        "* [\"Abrir en Google Drive\"](https://drive.google.com/drive/folders/1kQAFbW-IEBPuCiI-QFUqkpB99fPYvbs8?usp=sharing)\r\n",
        "* [\"Abrir en GitHub\"](https://github.com/FanyEstAg/Team-25-Proyecto_M3/tree/main/Datasets)\r\n"
      ]
    },
    {
      "cell_type": "markdown",
      "metadata": {
        "id": "Y1NKIfJFIxAn"
      },
      "source": [
        "## <font color=violet> **4 ANÁLISIS EXPLORATORIO DE DATOS**"
      ]
    },
    {
      "cell_type": "markdown",
      "metadata": {
        "id": "U8bboKggJGHP"
      },
      "source": [
        "### <font color=Deeppink> **4.1 Preguntas acerca de los dataset**\r\n",
        "\r\n",
        "* ¿El conjunto de datos que tengo realmente me sirve para responder algunas de las preguntas que me planteé?\r\n",
        "* ¿Qué tamaño tiene mi conjunto de datos? \r\n",
        "* ¿Serán datos suficientes?\r\n",
        "* ¿Qué columnas tengo y qué información tengo en cada una de esas columnas?\r\n",
        "* Los nombres que tienen mis columnas, ¿son el nombre más apropiado?\r\n",
        "* ¿Qué tipos de datos tengo en cada columna? \r\n",
        "* ¿Parecen ser el tipo correcto de datos? \r\n",
        "* ¿O es un tipo de datos \"incorrecto\"?\r\n",
        "* Si selecciono algunas filas al azar y las observo, ¿estoy obteniendo los datos que debería? ¿o hay datos que parecen estar \"sucios\" o \"incorrectos\"?\r\n"
      ]
    },
    {
      "cell_type": "markdown",
      "metadata": {
        "id": "95NbhPT9G70B"
      },
      "source": [
        "#### <font color=Deeppink> **4.1.1 Motivos de abandono del empleo**\r\n",
        "\r\n",
        "El dataset correspondiente al [\"Conjunto de datos: Eventos de abandono de empleo\"](https://github.com/FanyEstAg/Team-25-Proyecto_M3/blob/main/Datasets/Motivos_Abandono_Empleo_INEGI_2010-2020.csv) obtenido de los [\"tabulados interactivos del INEGI\"](https://www.inegi.org.mx/programas/enoe/15ymas/#Tabulados) contiene las causas por las que se procede con la renuncia o despido del empleo, por lo que se concluye que sí será de ayuda para responder al cuestionamiento relacionado al motivo de despido más probable siendo mujer. <BR>\r\n",
        "El conjunto de datos muestra un tamaño de 11 rengloes y 49 columnas, en donde se reflejan los motivos de separación laboral copnforme a encuestas del INEGI, a nivel nacional dentro de los Estados Unidos Mexicanos para el período del primer trimestre de los años 2010-2020, lo cuál es una muestra representativa para realizar su análisis. <BR>\r\n",
        "Las columnas con las que cuenta el archivo son:\r\n",
        "  * Periodo: Primer Trimestre del año\r\n",
        "  * Totales (Hombre y Mujer): Cifrass totales del período\r\n",
        "  * Motivos (Total, Hombre y Mujer). Cifras correspondientes al motivo dentro del período correspondiente:\r\n",
        "    * Conflictos laborales o con sus superiores\r\n",
        "    * No podía responder a las exigencias del trabajo\r\n",
        "    * Las condiciones laborales se deterioraron o implicaban riesgos personales y/o de salud\r\n",
        "    * Discriminación o acoso\r\n",
        "    * Pensión, jubilación o retiro\r\n",
        "    * Querían ganar más y/o superarse en el trabajo\r\n",
        "    * Querían independizarse\r\n",
        "    * Querían seguir estudiando o retomar sus estudios\r\n",
        "    * Matrimonio, embarazo y/o responsabilidades familiares\r\n",
        "    * Un familiar le impidió seguir trabajando\r\n",
        "    * Otros \r\n",
        "    * No especificado <BR>\r\n",
        "El archivo está conformado por las cifras correspondientes a mujeres, hombres y totales con sus respectivos motivos de separación laboral, Habrá que realizar renombres de columnas y limpieza de datos vacios."
      ]
    },
    {
      "cell_type": "markdown",
      "metadata": {
        "id": "Mc6m46BYLhjl"
      },
      "source": [
        "#### <font color=Deeppink> **4.1.2 Ingresos: Salarios mínimos**\r\n",
        "El conjunto de datos correspondiente a [\"Ingresos según el salario mínimo\"](\"https://drive.google.com/file/d/1Ct_PCEXElJTaBfNlVbCrPy_0mMIhMPx1/view?usp=sharing\") obtenido del [\"banco de indicadores del INEGI\"](\"https://www.inegi.org.mx/app/indicadores/?t=18&ag=00\") tiene una dimensión de (23,13) conteniendo datos suficientes para el análisis que se desea. \r\n",
        "Las columnas que contiene son las siguientes:\r\n",
        "* 'Período' (Año/Trimestre)\r\n",
        "* '1 salario minimo' (hombres- mujeres),\r\n",
        "* 'mas de 1 hasta 2 salarios minimos' (hombres- mujeres),\r\n",
        "* 'mas de 2 hasta 3 salarios minimos' (hombres- mujeres), \r\n",
        "* 'mas de 3 hasta 5 salarios minimos' (hombres- mujeres),\r\n",
        "* 'mas de 5 salarios minimos' (hombres- mujeres), \r\n",
        "* 'No recibe ingresos' (hombres- mujeres)\r\n",
        "\r\n",
        "La cuales se consideran nombres inapropiados debido a su tamaño y claridad. Los tipo de datos son: \r\n",
        "- Object para la primera columna\r\n",
        "- float para el resto\r\n",
        "\r\n",
        "Los cuales no son los tipo de datos más \"adecuados\" para el análisis.\r\n",
        "Finalmente, no hay elementos incorrectos dentro del dataset\r\n"
      ]
    },
    {
      "cell_type": "markdown",
      "metadata": {
        "id": "pd5odUiGG7aV"
      },
      "source": [
        "#### <font color=Deeppink> **4.1.3 Sectores económicos**\r\n",
        "\r\n",
        "- El dataset correspondiente al [\"Conjunto de datos: Sectores económicos\"](https://drive.google.com/file/d/1E8DJ73kA9zHug1AsFFf-0a-cGCIq3MFc/view?usp=sharing) obtenido de los [\"tabulados interactivos del INEGI\"](https://www.inegi.org.mx/app/tabulados/default.html?nc=597) contiene la población ocupada según sector de actividad económica, nacional trimestral, por lo que se concluye que sí será de ayuda para responder a los cuestionamientos planteados alrededor de los sectores económicos en nuestro país, potenciales áreas de oportunidad para las mujeres.\r\n",
        "- El conjunto de datos muestra un tamaño de 13 rengloes y 16 columnas, en donde se reflejan las cifras de ocupantes en los distintos sectores sectores de actividad económica en nuestro país recuperados de la Encuesta Nacional de Ocupación y Empleo del INEGI, para el período del 2017 al 2020 en periodos trimestrales.\r\n",
        "\r\n",
        "Las columnas con las que cuenta el archivo son:\r\n",
        "\r\n",
        "- Periodo \r\n",
        "- Total\r\n",
        "- Agricultura, ganadería, silvicultura, pesca y caza\r\n",
        "* Total Secundario\r\n",
        "* Industria extractiva y de la electricidad\r\n",
        "* Industria manufacturera\r\n",
        "* Construcción\r\n",
        "* Total terciario\r\n",
        "* Comercio\r\n",
        "* Restaurantes y servicios de alojamiento\r\n",
        "* Transportes, comunicaciones correo y almacenamiento\r\n",
        "* Servicios profesionales financieros y corporativos\r\n",
        "* Servicios sociales\r\n",
        "* Servicios diversos\r\n",
        "* Gobiernos y organismos internacionales\r\n",
        "* No específicado\r\n",
        "\r\n",
        "- El archivo está conformado por las cifras correspondientes a los números de ocupantes del año 2017 al primer trimestre del 2020.\r\n",
        "\r\n",
        "Los nombres se manejaron igual con motivos de especificidad y para evitar confusiones.\r\n",
        "\r\n",
        "Los tipos de datos fueron:\r\n",
        "- Object para la primera columna\r\n",
        "- Int para el resto\r\n",
        "\r\n",
        "Los cuales resultan convenientes para el análisis.Finalmente, no hay elementos incorrectos dentro del dataset."
      ]
    },
    {
      "cell_type": "markdown",
      "metadata": {
        "id": "1Qqeox78UOvU"
      },
      "source": [
        "## <font color=violet> **5 LIMPIEZA DE DATOS**\r\n",
        "**Desarrollo:** Para llevar a cabo esta etapa del proyecto será requerido realizar lo siguente:\r\n",
        "\r\n",
        "- Explorar  los datasets con el fin de encontrar los NaNs que contiene. \r\n",
        "- Pensar en distribución de NaNs por columna y por fila.\r\n",
        "- Pensar en los procedimientos que  se pueden aplicar a los NaNs. ¿Tenemos que eliminar las filas/columnas que tienen esos NaNs? ¿O podríamos rellenar esos NaNs con algún valor de manera que podamos retener esas filas/columnas?\r\n",
        "- Limpia el dataset de manera que no quede ningún NaN.\r\n",
        "- Reindexar el dataset si se considera necesario.\r\n",
        "- Renombra las columnas si se considera necesario.\r\n",
        "- Probar la aplicación de agregaciones a los DataFrame para ver si se puede empezar a responder algunas de las preguntas que se plantearon inicialmente. \r\n",
        "\r\n",
        "**Nota:** El desarrollo de cada dataset se llevo a cabo en notebooks individuales para mayor claridad y comprensión. Así mismo, dichas notebooks, contienen el proceso de limpieza y transformación de datos denotados por un encabezado para mejor entendimiento y ejecución del código"
      ]
    },
    {
      "cell_type": "markdown",
      "metadata": {
        "id": "spAm0oBcFTJ6"
      },
      "source": [
        "### <font color=Deeppink> **5.1 Motivos abandono del empleo**\r\n",
        "El notebook correspondiente a la limpieza de datos de Ingresos: Salarios mínimos lo puede encontrar [\"aquí\"](https://colab.research.google.com/drive/1Lm9BPfaQYm4hv8vlKfCEhP_6jdoOuW3R#scrollTo=xz_fNl53AEQK) o dentro de nuestro repositorio de GitHub [\"Notebooks:Limpieza y Transformación de Datos: Motivos_Desempleo\"](https://github.com/FanyEstAg/Team-25-Proyecto_M3/blob/main/Notebooks/Limpieza_y_Transformaci%C3%B3n_de_Datos_Motivos_Desempleo.ipynb)"
      ]
    },
    {
      "cell_type": "markdown",
      "metadata": {
        "id": "6o9ixs0ggBCb"
      },
      "source": [
        "### <font color=Deeppink> **5.2 Ingresos:Salarios mínimos**\r\n",
        "El notebook correspondiente a la limpieza de datos de **Ingresos: Salarios mínimos** lo puede encontrar [\"aquí\"](\"https://colab.research.google.com/drive/1fiQknqCVeuMV-dK9CL_X_yg9Kib45O78?usp=sharing\") o dentro de nuestro repositorio de **GitHub** [\"Notebooks:Ingresos\"](\"https://github.com/FanyEstAg/Team-25-Proyecto_M3/blob/main/Notebooks/1_Ingresos_Salario.ipynb\")\r\n"
      ]
    },
    {
      "cell_type": "markdown",
      "metadata": {
        "id": "_vp9uK5zXAGx"
      },
      "source": [
        "\r\n",
        "### <font color=Deeppink> **5.3 Sectores económicos**\r\n",
        "El notebook correspondiente a la limpieza de datos de **Sectores económicos** lo puede encontrar [\"aquí\"](\"https://colab.research.google.com/drive/1ynepMnwHTEmZRPtNAg-qgBmYjwz2R_VP?usp=sharing\") o dentro de nuestro repositorio de **GitHub** [\"Sectores económicos\"](\"https://github.com/FanyEstAg/Team-25-Proyecto_M3/blob/main/Notebooks/Sectores_econ%C3%B3micos.ipynb\")"
      ]
    },
    {
      "cell_type": "markdown",
      "metadata": {
        "id": "Aryu2ab7UXrg"
      },
      "source": [
        "## <font color=violet> **6 TRANSFORMACIÓN DE DATOS**\r\n",
        "**Desarrollo** Para la aplicación de esta etapa del proyecto se llevarán a cabo las siguientes acciones:\r\n",
        "\r\n",
        "* Checar que todos los datos tengan el tipo de dato correcto. \r\n",
        "* Si no es así, usar casting para convertir los  datos al tipo de dato correcto\r\n",
        "* Asegurar que todas las cadenas tengan el formato correcto. * Si no es así, utilizar  técnicas de manipulación de strings para darles el formato necesario.\r\n",
        "* Considerar si alguna de las columnas sería más clara si los datos tuvieran otro formato o representación, en ese caso usar map para transformar los datos de esa columna.\r\n",
        "* En caso de ser posible o necesario, generar nuevas columnas útiles a partir de las columnas que ya se tienen, usar apply para esta tarea.\r\n",
        "*Con el fin de responder algunas de las preguntas planteadas, usar filtros y sorting\r\n",
        "\r\n",
        "**Nota:** El desarrollo de cada dataset se llevo a cabo en notebooks individuales para mayor claridad y comprensión. Así mismo, dichas notebooks, contienen el proceso de limpieza y transformación de datos denotados por un encabezado para mejor entendimiento y ejecución del código"
      ]
    },
    {
      "cell_type": "markdown",
      "metadata": {
        "id": "sRw7Oku2V4BG"
      },
      "source": [
        "### <font color=Deeppink> **6.1 Motivos abandono del empleo**\r\n",
        "\r\n",
        "El notebook correspondiente a la transformación de datos de Ingresos: Salarios mínimos lo puede encontrar [\"aquí\"](https://colab.research.google.com/drive/1Lm9BPfaQYm4hv8vlKfCEhP_6jdoOuW3R#scrollTo=xz_fNl53AEQK)  o dentro de nuestro repositorio de GitHub [\"Notebooks:Limpieza y Transformación de Datos: Motivos_Desempleo\"](https://github.com/FanyEstAg/Team-25-Proyecto_M3/blob/main/Notebooks/Limpieza_y_Transformaci%C3%B3n_de_Datos_Motivos_Desempleo.ipynb)"
      ]
    },
    {
      "cell_type": "markdown",
      "metadata": {
        "id": "b-t1uJdNhKMp"
      },
      "source": [
        "### <font color=Deeppink> **6.2 Ingresos:Salarios mínimos**\r\n",
        "El notebook correspondiente a la transformación de datos de **Ingresos: Salarios mínimos** lo puede encontrar [\"aquí\"](\"https://colab.research.google.com/drive/1fiQknqCVeuMV-dK9CL_X_yg9Kib45O78?usp=sharing\") o dentro de nuestro repositorio de **GitHub** [\"Notebooks: Ingresos\"](\"https://github.com/FanyEstAg/Team-25-Proyecto_M3/blob/main/Notebooks/1_Ingresos_Salario.ipynb\").\r\n",
        "\r\n"
      ]
    },
    {
      "cell_type": "markdown",
      "metadata": {
        "id": "GZkHnYGmXG4L"
      },
      "source": [
        "### <font color=Deeppink> **6.3 Sectores económicos**\r\n",
        "El notebook correspondiente a la transformación de datos de **Sectores económicos** lo puede encontrar [\"aquí\"](\"https://colab.research.google.com/drive/1ynepMnwHTEmZRPtNAg-qgBmYjwz2R_VP?usp=sharing\") o dentro de nuestro repositorio de **GitHub** [\"Notebooks: Sectores económicos\"](\"https://github.com/FanyEstAg/Team-25-Proyecto_M3/blob/main/Notebooks/Sectores_econ%C3%B3micos.ipynb\")."
      ]
    },
    {
      "cell_type": "markdown",
      "metadata": {
        "id": "jDwKhC9rojSv"
      },
      "source": [
        "## <font color=violet> **7 PLANES A FUTURO**\r\n",
        "\r\n",
        "<font color=Cyclamen> **¿Qué te gustaría analizar?** \r\n",
        " - Nos gustaría poder analizar el progreso que la mujer ha tenido, a través de un lapso 10 años (cómo máximo) en distintos ámbitos: laboral, familiar, educación, violencia, entre otros.\r\n",
        "También nos gustaría generar una comparativa de hombres y mujeres con lo antes mencionado, sin embargo no consideramos este punto dentro de nuestro enfoque principal.\r\n",
        "\r\n",
        "<font color=Cyclamen> **¿Qué información está disponible en tus datos?** \r\n",
        " - Afortunadamente contamos con una amplia cantidad de datos con la infromación necesaria para cumplir nuestro objetivo de análisis.\r\n",
        "\r\n",
        "<font color=Cyclamen> **¿Cómo podrías ayudarte a entender mejor los datos usando gráficas y visualizaciones?**\r\n",
        " - Nos ayudaría muchisímo el uso de elementos gráficos para comprender y compartir nuestros reusultados estadísticos y conclusiones.\r\n",
        "Consideramos que la visualización de datos es primordial para la mayor facilidad de entendimiento tanto para nosotras como equipo como para la gente a la que podemos presentar nuestro análisis.\r\n",
        "\r\n",
        "*En resumen nos encantaría poder generar un análisis de información importante y gráfico, capaz de difundir a un público en general el progreso que las mujeres hemos tenido a lo largo de una década en distintos ámbitos; todo esto con base a infromación confiables y veraz* "
      ]
    },
    {
      "cell_type": "markdown",
      "metadata": {
        "id": "WuRmsR7mIBpM"
      },
      "source": [
        "<img src=\"https://media.istockphoto.com/vectors/diverse-international-group-of-women-or-girl-hugging-together-union-vector-id1154639826?k=6&m=1154639826&s=612x612&w=0&h=UJfNBi2210aVnjQXgjtxvV73N-1fE11d_tiI0XJAVFM=\" alt=\"Alt text that describes the graphic\" title=\"Title text\" />"
      ]
    }
  ]
}